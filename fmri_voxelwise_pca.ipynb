{
 "cells": [
  {
   "cell_type": "code",
   "execution_count": 1,
   "id": "7d448d4c",
   "metadata": {},
   "outputs": [],
   "source": [
    "import numpy as np\n",
    "import scipy\n",
    "import scipy.spatial\n",
    "import scipy.ndimage\n",
    "import nibabel as nib\n",
    "import random\n",
    "import pickle\n",
    "import os\n",
    "import sklearn\n",
    "from sklearn import decomposition\n",
    "import joblib"
   ]
  },
  {
   "cell_type": "code",
   "execution_count": 2,
   "id": "04e80be8",
   "metadata": {},
   "outputs": [],
   "source": [
    "# gm mask\n",
    "gm_mask = nib.load('all_vols_mask.nii')\n",
    "gm_mask_data = gm_mask.get_fdata()\n",
    "gm_vox = np.nonzero(gm_mask_data)\n",
    "gm_vox_inds = np.ravel_multi_index(gm_vox, (91,109,91))"
   ]
  },
  {
   "cell_type": "code",
   "execution_count": 3,
   "id": "400846ec",
   "metadata": {},
   "outputs": [],
   "source": [
    "# load in brainnetome/SUIT ROIs\n",
    "input_rois = nib.load('all_vols.nii')\n",
    "input_rois_d = input_rois.get_fdata()\n",
    "roi_inds = []\n",
    "for i in range(273):\n",
    "    roi_inds.append(np.nonzero(input_rois_d==i+1))"
   ]
  },
  {
   "cell_type": "code",
   "execution_count": 17,
   "id": "35c4fba3",
   "metadata": {},
   "outputs": [],
   "source": [
    "# NOTE: the preprocessed BOLD images used in this study aren't including in the github repository because they are very big\n",
    "# contact me at jesse.brown@ucsf.edu if you really need them \n",
    "#bold_filelist = np.loadtxt('hcp/3d_vols_task/wm_filelist_200_smoothed.txt', dtype='str')\n",
    "#vol_out_dir = 'hcp/3d_vols_task/wm/'\n",
    "#bold_filelist = np.loadtxt('hcp/3d_vols_task/motor_filelist_200_smoothed.txt', dtype='str')\n",
    "#vol_out_dir = 'hcp/3d_vols_task/motor/'\n",
    "#bold_filelist = np.loadtxt('hcp/3d_vols_task/language_filelist_200_smoothed.txt', dtype='str')\n",
    "#vol_out_dir = 'hcp/3d_vols_task/language/'\n",
    "bold_filelist = np.loadtxt('hcp/3d_vols_task/emotion_filelist_200_smoothed.txt', dtype='str')\n",
    "vol_out_dir = 'hcp/3d_vols_task/emotion/'"
   ]
  },
  {
   "cell_type": "code",
   "execution_count": 19,
   "id": "7863ad2d",
   "metadata": {},
   "outputs": [
    {
     "name": "stderr",
     "output_type": "stream",
     "text": [
      "<ipython-input-19-26b27108d2b0>:18: RuntimeWarning: invalid value encountered in true_divide\n",
      "  bold_data_norm = (bold_data_norm / (np.std(bold_data_norm,3)[:,:,:,np.newaxis]))\n"
     ]
    },
    {
     "name": "stdout",
     "output_type": "stream",
     "text": [
      "1\n"
     ]
    },
    {
     "name": "stderr",
     "output_type": "stream",
     "text": [
      "<ipython-input-19-26b27108d2b0>:18: RuntimeWarning: invalid value encountered in true_divide\n",
      "  bold_data_norm = (bold_data_norm / (np.std(bold_data_norm,3)[:,:,:,np.newaxis]))\n"
     ]
    },
    {
     "name": "stdout",
     "output_type": "stream",
     "text": [
      "2\n"
     ]
    },
    {
     "name": "stderr",
     "output_type": "stream",
     "text": [
      "<ipython-input-19-26b27108d2b0>:18: RuntimeWarning: invalid value encountered in true_divide\n",
      "  bold_data_norm = (bold_data_norm / (np.std(bold_data_norm,3)[:,:,:,np.newaxis]))\n"
     ]
    },
    {
     "name": "stdout",
     "output_type": "stream",
     "text": [
      "3\n"
     ]
    },
    {
     "name": "stderr",
     "output_type": "stream",
     "text": [
      "<ipython-input-19-26b27108d2b0>:18: RuntimeWarning: invalid value encountered in true_divide\n",
      "  bold_data_norm = (bold_data_norm / (np.std(bold_data_norm,3)[:,:,:,np.newaxis]))\n"
     ]
    },
    {
     "name": "stdout",
     "output_type": "stream",
     "text": [
      "4\n"
     ]
    },
    {
     "name": "stderr",
     "output_type": "stream",
     "text": [
      "<ipython-input-19-26b27108d2b0>:18: RuntimeWarning: invalid value encountered in true_divide\n",
      "  bold_data_norm = (bold_data_norm / (np.std(bold_data_norm,3)[:,:,:,np.newaxis]))\n"
     ]
    },
    {
     "name": "stdout",
     "output_type": "stream",
     "text": [
      "5\n"
     ]
    },
    {
     "name": "stderr",
     "output_type": "stream",
     "text": [
      "<ipython-input-19-26b27108d2b0>:18: RuntimeWarning: invalid value encountered in true_divide\n",
      "  bold_data_norm = (bold_data_norm / (np.std(bold_data_norm,3)[:,:,:,np.newaxis]))\n"
     ]
    },
    {
     "name": "stdout",
     "output_type": "stream",
     "text": [
      "6\n"
     ]
    },
    {
     "name": "stderr",
     "output_type": "stream",
     "text": [
      "<ipython-input-19-26b27108d2b0>:18: RuntimeWarning: invalid value encountered in true_divide\n",
      "  bold_data_norm = (bold_data_norm / (np.std(bold_data_norm,3)[:,:,:,np.newaxis]))\n"
     ]
    },
    {
     "name": "stdout",
     "output_type": "stream",
     "text": [
      "7\n"
     ]
    },
    {
     "name": "stderr",
     "output_type": "stream",
     "text": [
      "<ipython-input-19-26b27108d2b0>:18: RuntimeWarning: invalid value encountered in true_divide\n",
      "  bold_data_norm = (bold_data_norm / (np.std(bold_data_norm,3)[:,:,:,np.newaxis]))\n"
     ]
    },
    {
     "name": "stdout",
     "output_type": "stream",
     "text": [
      "8\n"
     ]
    },
    {
     "name": "stderr",
     "output_type": "stream",
     "text": [
      "<ipython-input-19-26b27108d2b0>:18: RuntimeWarning: invalid value encountered in true_divide\n",
      "  bold_data_norm = (bold_data_norm / (np.std(bold_data_norm,3)[:,:,:,np.newaxis]))\n"
     ]
    },
    {
     "name": "stdout",
     "output_type": "stream",
     "text": [
      "9\n"
     ]
    },
    {
     "name": "stderr",
     "output_type": "stream",
     "text": [
      "<ipython-input-19-26b27108d2b0>:18: RuntimeWarning: invalid value encountered in true_divide\n",
      "  bold_data_norm = (bold_data_norm / (np.std(bold_data_norm,3)[:,:,:,np.newaxis]))\n"
     ]
    },
    {
     "name": "stdout",
     "output_type": "stream",
     "text": [
      "10\n"
     ]
    },
    {
     "name": "stderr",
     "output_type": "stream",
     "text": [
      "<ipython-input-19-26b27108d2b0>:18: RuntimeWarning: invalid value encountered in true_divide\n",
      "  bold_data_norm = (bold_data_norm / (np.std(bold_data_norm,3)[:,:,:,np.newaxis]))\n"
     ]
    },
    {
     "name": "stdout",
     "output_type": "stream",
     "text": [
      "11\n"
     ]
    },
    {
     "name": "stderr",
     "output_type": "stream",
     "text": [
      "<ipython-input-19-26b27108d2b0>:18: RuntimeWarning: invalid value encountered in true_divide\n",
      "  bold_data_norm = (bold_data_norm / (np.std(bold_data_norm,3)[:,:,:,np.newaxis]))\n"
     ]
    },
    {
     "name": "stdout",
     "output_type": "stream",
     "text": [
      "12\n"
     ]
    },
    {
     "name": "stderr",
     "output_type": "stream",
     "text": [
      "<ipython-input-19-26b27108d2b0>:18: RuntimeWarning: invalid value encountered in true_divide\n",
      "  bold_data_norm = (bold_data_norm / (np.std(bold_data_norm,3)[:,:,:,np.newaxis]))\n"
     ]
    },
    {
     "name": "stdout",
     "output_type": "stream",
     "text": [
      "13\n"
     ]
    },
    {
     "name": "stderr",
     "output_type": "stream",
     "text": [
      "<ipython-input-19-26b27108d2b0>:18: RuntimeWarning: invalid value encountered in true_divide\n",
      "  bold_data_norm = (bold_data_norm / (np.std(bold_data_norm,3)[:,:,:,np.newaxis]))\n"
     ]
    },
    {
     "name": "stdout",
     "output_type": "stream",
     "text": [
      "14\n"
     ]
    },
    {
     "name": "stderr",
     "output_type": "stream",
     "text": [
      "<ipython-input-19-26b27108d2b0>:18: RuntimeWarning: invalid value encountered in true_divide\n",
      "  bold_data_norm = (bold_data_norm / (np.std(bold_data_norm,3)[:,:,:,np.newaxis]))\n"
     ]
    },
    {
     "name": "stdout",
     "output_type": "stream",
     "text": [
      "15\n"
     ]
    },
    {
     "name": "stderr",
     "output_type": "stream",
     "text": [
      "<ipython-input-19-26b27108d2b0>:18: RuntimeWarning: invalid value encountered in true_divide\n",
      "  bold_data_norm = (bold_data_norm / (np.std(bold_data_norm,3)[:,:,:,np.newaxis]))\n"
     ]
    },
    {
     "name": "stdout",
     "output_type": "stream",
     "text": [
      "16\n"
     ]
    },
    {
     "name": "stderr",
     "output_type": "stream",
     "text": [
      "<ipython-input-19-26b27108d2b0>:18: RuntimeWarning: invalid value encountered in true_divide\n",
      "  bold_data_norm = (bold_data_norm / (np.std(bold_data_norm,3)[:,:,:,np.newaxis]))\n"
     ]
    },
    {
     "name": "stdout",
     "output_type": "stream",
     "text": [
      "17\n"
     ]
    },
    {
     "name": "stderr",
     "output_type": "stream",
     "text": [
      "<ipython-input-19-26b27108d2b0>:18: RuntimeWarning: invalid value encountered in true_divide\n",
      "  bold_data_norm = (bold_data_norm / (np.std(bold_data_norm,3)[:,:,:,np.newaxis]))\n"
     ]
    },
    {
     "name": "stdout",
     "output_type": "stream",
     "text": [
      "18\n"
     ]
    },
    {
     "name": "stderr",
     "output_type": "stream",
     "text": [
      "<ipython-input-19-26b27108d2b0>:18: RuntimeWarning: invalid value encountered in true_divide\n",
      "  bold_data_norm = (bold_data_norm / (np.std(bold_data_norm,3)[:,:,:,np.newaxis]))\n"
     ]
    },
    {
     "name": "stdout",
     "output_type": "stream",
     "text": [
      "19\n"
     ]
    },
    {
     "name": "stderr",
     "output_type": "stream",
     "text": [
      "<ipython-input-19-26b27108d2b0>:18: RuntimeWarning: invalid value encountered in true_divide\n",
      "  bold_data_norm = (bold_data_norm / (np.std(bold_data_norm,3)[:,:,:,np.newaxis]))\n"
     ]
    },
    {
     "name": "stdout",
     "output_type": "stream",
     "text": [
      "20\n"
     ]
    },
    {
     "name": "stderr",
     "output_type": "stream",
     "text": [
      "<ipython-input-19-26b27108d2b0>:18: RuntimeWarning: invalid value encountered in true_divide\n",
      "  bold_data_norm = (bold_data_norm / (np.std(bold_data_norm,3)[:,:,:,np.newaxis]))\n"
     ]
    },
    {
     "name": "stdout",
     "output_type": "stream",
     "text": [
      "21\n"
     ]
    },
    {
     "name": "stderr",
     "output_type": "stream",
     "text": [
      "<ipython-input-19-26b27108d2b0>:18: RuntimeWarning: invalid value encountered in true_divide\n",
      "  bold_data_norm = (bold_data_norm / (np.std(bold_data_norm,3)[:,:,:,np.newaxis]))\n"
     ]
    },
    {
     "name": "stdout",
     "output_type": "stream",
     "text": [
      "22\n"
     ]
    },
    {
     "name": "stderr",
     "output_type": "stream",
     "text": [
      "<ipython-input-19-26b27108d2b0>:18: RuntimeWarning: invalid value encountered in true_divide\n",
      "  bold_data_norm = (bold_data_norm / (np.std(bold_data_norm,3)[:,:,:,np.newaxis]))\n"
     ]
    },
    {
     "name": "stdout",
     "output_type": "stream",
     "text": [
      "23\n"
     ]
    },
    {
     "name": "stderr",
     "output_type": "stream",
     "text": [
      "<ipython-input-19-26b27108d2b0>:18: RuntimeWarning: invalid value encountered in true_divide\n",
      "  bold_data_norm = (bold_data_norm / (np.std(bold_data_norm,3)[:,:,:,np.newaxis]))\n"
     ]
    },
    {
     "name": "stdout",
     "output_type": "stream",
     "text": [
      "24\n"
     ]
    },
    {
     "name": "stderr",
     "output_type": "stream",
     "text": [
      "<ipython-input-19-26b27108d2b0>:18: RuntimeWarning: invalid value encountered in true_divide\n",
      "  bold_data_norm = (bold_data_norm / (np.std(bold_data_norm,3)[:,:,:,np.newaxis]))\n"
     ]
    },
    {
     "name": "stdout",
     "output_type": "stream",
     "text": [
      "25\n"
     ]
    },
    {
     "name": "stderr",
     "output_type": "stream",
     "text": [
      "<ipython-input-19-26b27108d2b0>:18: RuntimeWarning: invalid value encountered in true_divide\n",
      "  bold_data_norm = (bold_data_norm / (np.std(bold_data_norm,3)[:,:,:,np.newaxis]))\n"
     ]
    },
    {
     "name": "stdout",
     "output_type": "stream",
     "text": [
      "26\n"
     ]
    },
    {
     "name": "stderr",
     "output_type": "stream",
     "text": [
      "<ipython-input-19-26b27108d2b0>:18: RuntimeWarning: invalid value encountered in true_divide\n",
      "  bold_data_norm = (bold_data_norm / (np.std(bold_data_norm,3)[:,:,:,np.newaxis]))\n"
     ]
    },
    {
     "name": "stdout",
     "output_type": "stream",
     "text": [
      "27\n"
     ]
    },
    {
     "name": "stderr",
     "output_type": "stream",
     "text": [
      "<ipython-input-19-26b27108d2b0>:18: RuntimeWarning: invalid value encountered in true_divide\n",
      "  bold_data_norm = (bold_data_norm / (np.std(bold_data_norm,3)[:,:,:,np.newaxis]))\n"
     ]
    },
    {
     "name": "stdout",
     "output_type": "stream",
     "text": [
      "28\n"
     ]
    },
    {
     "name": "stderr",
     "output_type": "stream",
     "text": [
      "<ipython-input-19-26b27108d2b0>:18: RuntimeWarning: invalid value encountered in true_divide\n",
      "  bold_data_norm = (bold_data_norm / (np.std(bold_data_norm,3)[:,:,:,np.newaxis]))\n"
     ]
    },
    {
     "name": "stdout",
     "output_type": "stream",
     "text": [
      "29\n"
     ]
    },
    {
     "name": "stderr",
     "output_type": "stream",
     "text": [
      "<ipython-input-19-26b27108d2b0>:18: RuntimeWarning: invalid value encountered in true_divide\n",
      "  bold_data_norm = (bold_data_norm / (np.std(bold_data_norm,3)[:,:,:,np.newaxis]))\n"
     ]
    },
    {
     "name": "stdout",
     "output_type": "stream",
     "text": [
      "30\n"
     ]
    },
    {
     "name": "stderr",
     "output_type": "stream",
     "text": [
      "<ipython-input-19-26b27108d2b0>:18: RuntimeWarning: invalid value encountered in true_divide\n",
      "  bold_data_norm = (bold_data_norm / (np.std(bold_data_norm,3)[:,:,:,np.newaxis]))\n"
     ]
    },
    {
     "name": "stdout",
     "output_type": "stream",
     "text": [
      "31\n"
     ]
    },
    {
     "name": "stderr",
     "output_type": "stream",
     "text": [
      "<ipython-input-19-26b27108d2b0>:18: RuntimeWarning: invalid value encountered in true_divide\n",
      "  bold_data_norm = (bold_data_norm / (np.std(bold_data_norm,3)[:,:,:,np.newaxis]))\n"
     ]
    },
    {
     "name": "stdout",
     "output_type": "stream",
     "text": [
      "32\n"
     ]
    },
    {
     "name": "stderr",
     "output_type": "stream",
     "text": [
      "<ipython-input-19-26b27108d2b0>:18: RuntimeWarning: invalid value encountered in true_divide\n",
      "  bold_data_norm = (bold_data_norm / (np.std(bold_data_norm,3)[:,:,:,np.newaxis]))\n"
     ]
    },
    {
     "name": "stdout",
     "output_type": "stream",
     "text": [
      "33\n"
     ]
    },
    {
     "name": "stderr",
     "output_type": "stream",
     "text": [
      "<ipython-input-19-26b27108d2b0>:18: RuntimeWarning: invalid value encountered in true_divide\n",
      "  bold_data_norm = (bold_data_norm / (np.std(bold_data_norm,3)[:,:,:,np.newaxis]))\n"
     ]
    },
    {
     "name": "stdout",
     "output_type": "stream",
     "text": [
      "34\n"
     ]
    },
    {
     "name": "stderr",
     "output_type": "stream",
     "text": [
      "<ipython-input-19-26b27108d2b0>:18: RuntimeWarning: invalid value encountered in true_divide\n",
      "  bold_data_norm = (bold_data_norm / (np.std(bold_data_norm,3)[:,:,:,np.newaxis]))\n"
     ]
    },
    {
     "name": "stdout",
     "output_type": "stream",
     "text": [
      "35\n"
     ]
    },
    {
     "name": "stderr",
     "output_type": "stream",
     "text": [
      "<ipython-input-19-26b27108d2b0>:18: RuntimeWarning: invalid value encountered in true_divide\n",
      "  bold_data_norm = (bold_data_norm / (np.std(bold_data_norm,3)[:,:,:,np.newaxis]))\n"
     ]
    },
    {
     "name": "stdout",
     "output_type": "stream",
     "text": [
      "36\n"
     ]
    },
    {
     "name": "stderr",
     "output_type": "stream",
     "text": [
      "<ipython-input-19-26b27108d2b0>:18: RuntimeWarning: invalid value encountered in true_divide\n",
      "  bold_data_norm = (bold_data_norm / (np.std(bold_data_norm,3)[:,:,:,np.newaxis]))\n"
     ]
    },
    {
     "name": "stdout",
     "output_type": "stream",
     "text": [
      "37\n"
     ]
    },
    {
     "name": "stderr",
     "output_type": "stream",
     "text": [
      "<ipython-input-19-26b27108d2b0>:18: RuntimeWarning: invalid value encountered in true_divide\n",
      "  bold_data_norm = (bold_data_norm / (np.std(bold_data_norm,3)[:,:,:,np.newaxis]))\n"
     ]
    },
    {
     "name": "stdout",
     "output_type": "stream",
     "text": [
      "38\n"
     ]
    },
    {
     "name": "stderr",
     "output_type": "stream",
     "text": [
      "<ipython-input-19-26b27108d2b0>:18: RuntimeWarning: invalid value encountered in true_divide\n",
      "  bold_data_norm = (bold_data_norm / (np.std(bold_data_norm,3)[:,:,:,np.newaxis]))\n"
     ]
    },
    {
     "name": "stdout",
     "output_type": "stream",
     "text": [
      "39\n"
     ]
    },
    {
     "name": "stderr",
     "output_type": "stream",
     "text": [
      "<ipython-input-19-26b27108d2b0>:18: RuntimeWarning: invalid value encountered in true_divide\n",
      "  bold_data_norm = (bold_data_norm / (np.std(bold_data_norm,3)[:,:,:,np.newaxis]))\n"
     ]
    },
    {
     "name": "stdout",
     "output_type": "stream",
     "text": [
      "40\n"
     ]
    },
    {
     "name": "stderr",
     "output_type": "stream",
     "text": [
      "<ipython-input-19-26b27108d2b0>:18: RuntimeWarning: invalid value encountered in true_divide\n",
      "  bold_data_norm = (bold_data_norm / (np.std(bold_data_norm,3)[:,:,:,np.newaxis]))\n"
     ]
    },
    {
     "name": "stdout",
     "output_type": "stream",
     "text": [
      "41\n"
     ]
    },
    {
     "name": "stderr",
     "output_type": "stream",
     "text": [
      "<ipython-input-19-26b27108d2b0>:18: RuntimeWarning: invalid value encountered in true_divide\n",
      "  bold_data_norm = (bold_data_norm / (np.std(bold_data_norm,3)[:,:,:,np.newaxis]))\n"
     ]
    },
    {
     "name": "stdout",
     "output_type": "stream",
     "text": [
      "42\n"
     ]
    },
    {
     "name": "stderr",
     "output_type": "stream",
     "text": [
      "<ipython-input-19-26b27108d2b0>:18: RuntimeWarning: invalid value encountered in true_divide\n",
      "  bold_data_norm = (bold_data_norm / (np.std(bold_data_norm,3)[:,:,:,np.newaxis]))\n"
     ]
    },
    {
     "name": "stdout",
     "output_type": "stream",
     "text": [
      "43\n"
     ]
    },
    {
     "name": "stderr",
     "output_type": "stream",
     "text": [
      "<ipython-input-19-26b27108d2b0>:18: RuntimeWarning: invalid value encountered in true_divide\n",
      "  bold_data_norm = (bold_data_norm / (np.std(bold_data_norm,3)[:,:,:,np.newaxis]))\n"
     ]
    },
    {
     "name": "stdout",
     "output_type": "stream",
     "text": [
      "44\n"
     ]
    },
    {
     "name": "stderr",
     "output_type": "stream",
     "text": [
      "<ipython-input-19-26b27108d2b0>:18: RuntimeWarning: invalid value encountered in true_divide\n",
      "  bold_data_norm = (bold_data_norm / (np.std(bold_data_norm,3)[:,:,:,np.newaxis]))\n"
     ]
    },
    {
     "name": "stdout",
     "output_type": "stream",
     "text": [
      "45\n"
     ]
    },
    {
     "name": "stderr",
     "output_type": "stream",
     "text": [
      "<ipython-input-19-26b27108d2b0>:18: RuntimeWarning: invalid value encountered in true_divide\n",
      "  bold_data_norm = (bold_data_norm / (np.std(bold_data_norm,3)[:,:,:,np.newaxis]))\n"
     ]
    },
    {
     "name": "stdout",
     "output_type": "stream",
     "text": [
      "46\n"
     ]
    },
    {
     "name": "stderr",
     "output_type": "stream",
     "text": [
      "<ipython-input-19-26b27108d2b0>:18: RuntimeWarning: invalid value encountered in true_divide\n",
      "  bold_data_norm = (bold_data_norm / (np.std(bold_data_norm,3)[:,:,:,np.newaxis]))\n"
     ]
    },
    {
     "name": "stdout",
     "output_type": "stream",
     "text": [
      "47\n"
     ]
    },
    {
     "name": "stderr",
     "output_type": "stream",
     "text": [
      "<ipython-input-19-26b27108d2b0>:18: RuntimeWarning: invalid value encountered in true_divide\n",
      "  bold_data_norm = (bold_data_norm / (np.std(bold_data_norm,3)[:,:,:,np.newaxis]))\n"
     ]
    },
    {
     "name": "stdout",
     "output_type": "stream",
     "text": [
      "48\n"
     ]
    },
    {
     "name": "stderr",
     "output_type": "stream",
     "text": [
      "<ipython-input-19-26b27108d2b0>:18: RuntimeWarning: invalid value encountered in true_divide\n",
      "  bold_data_norm = (bold_data_norm / (np.std(bold_data_norm,3)[:,:,:,np.newaxis]))\n"
     ]
    },
    {
     "name": "stdout",
     "output_type": "stream",
     "text": [
      "49\n"
     ]
    },
    {
     "name": "stderr",
     "output_type": "stream",
     "text": [
      "<ipython-input-19-26b27108d2b0>:18: RuntimeWarning: invalid value encountered in true_divide\n",
      "  bold_data_norm = (bold_data_norm / (np.std(bold_data_norm,3)[:,:,:,np.newaxis]))\n"
     ]
    },
    {
     "name": "stdout",
     "output_type": "stream",
     "text": [
      "50\n"
     ]
    },
    {
     "name": "stderr",
     "output_type": "stream",
     "text": [
      "<ipython-input-19-26b27108d2b0>:18: RuntimeWarning: invalid value encountered in true_divide\n",
      "  bold_data_norm = (bold_data_norm / (np.std(bold_data_norm,3)[:,:,:,np.newaxis]))\n"
     ]
    },
    {
     "name": "stdout",
     "output_type": "stream",
     "text": [
      "51\n"
     ]
    },
    {
     "name": "stderr",
     "output_type": "stream",
     "text": [
      "<ipython-input-19-26b27108d2b0>:18: RuntimeWarning: invalid value encountered in true_divide\n",
      "  bold_data_norm = (bold_data_norm / (np.std(bold_data_norm,3)[:,:,:,np.newaxis]))\n"
     ]
    },
    {
     "name": "stdout",
     "output_type": "stream",
     "text": [
      "52\n"
     ]
    },
    {
     "name": "stderr",
     "output_type": "stream",
     "text": [
      "<ipython-input-19-26b27108d2b0>:18: RuntimeWarning: invalid value encountered in true_divide\n",
      "  bold_data_norm = (bold_data_norm / (np.std(bold_data_norm,3)[:,:,:,np.newaxis]))\n"
     ]
    },
    {
     "name": "stdout",
     "output_type": "stream",
     "text": [
      "53\n"
     ]
    },
    {
     "name": "stderr",
     "output_type": "stream",
     "text": [
      "<ipython-input-19-26b27108d2b0>:18: RuntimeWarning: invalid value encountered in true_divide\n",
      "  bold_data_norm = (bold_data_norm / (np.std(bold_data_norm,3)[:,:,:,np.newaxis]))\n"
     ]
    },
    {
     "name": "stdout",
     "output_type": "stream",
     "text": [
      "54\n"
     ]
    },
    {
     "name": "stderr",
     "output_type": "stream",
     "text": [
      "<ipython-input-19-26b27108d2b0>:18: RuntimeWarning: invalid value encountered in true_divide\n",
      "  bold_data_norm = (bold_data_norm / (np.std(bold_data_norm,3)[:,:,:,np.newaxis]))\n"
     ]
    },
    {
     "name": "stdout",
     "output_type": "stream",
     "text": [
      "55\n"
     ]
    },
    {
     "name": "stderr",
     "output_type": "stream",
     "text": [
      "<ipython-input-19-26b27108d2b0>:18: RuntimeWarning: invalid value encountered in true_divide\n",
      "  bold_data_norm = (bold_data_norm / (np.std(bold_data_norm,3)[:,:,:,np.newaxis]))\n"
     ]
    },
    {
     "name": "stdout",
     "output_type": "stream",
     "text": [
      "56\n"
     ]
    },
    {
     "name": "stderr",
     "output_type": "stream",
     "text": [
      "<ipython-input-19-26b27108d2b0>:18: RuntimeWarning: invalid value encountered in true_divide\n",
      "  bold_data_norm = (bold_data_norm / (np.std(bold_data_norm,3)[:,:,:,np.newaxis]))\n"
     ]
    },
    {
     "name": "stdout",
     "output_type": "stream",
     "text": [
      "57\n"
     ]
    },
    {
     "name": "stderr",
     "output_type": "stream",
     "text": [
      "<ipython-input-19-26b27108d2b0>:18: RuntimeWarning: invalid value encountered in true_divide\n",
      "  bold_data_norm = (bold_data_norm / (np.std(bold_data_norm,3)[:,:,:,np.newaxis]))\n"
     ]
    },
    {
     "name": "stdout",
     "output_type": "stream",
     "text": [
      "58\n"
     ]
    },
    {
     "name": "stderr",
     "output_type": "stream",
     "text": [
      "<ipython-input-19-26b27108d2b0>:18: RuntimeWarning: invalid value encountered in true_divide\n",
      "  bold_data_norm = (bold_data_norm / (np.std(bold_data_norm,3)[:,:,:,np.newaxis]))\n"
     ]
    },
    {
     "name": "stdout",
     "output_type": "stream",
     "text": [
      "59\n"
     ]
    },
    {
     "name": "stderr",
     "output_type": "stream",
     "text": [
      "<ipython-input-19-26b27108d2b0>:18: RuntimeWarning: invalid value encountered in true_divide\n",
      "  bold_data_norm = (bold_data_norm / (np.std(bold_data_norm,3)[:,:,:,np.newaxis]))\n"
     ]
    },
    {
     "name": "stdout",
     "output_type": "stream",
     "text": [
      "60\n"
     ]
    },
    {
     "name": "stderr",
     "output_type": "stream",
     "text": [
      "<ipython-input-19-26b27108d2b0>:18: RuntimeWarning: invalid value encountered in true_divide\n",
      "  bold_data_norm = (bold_data_norm / (np.std(bold_data_norm,3)[:,:,:,np.newaxis]))\n"
     ]
    },
    {
     "name": "stdout",
     "output_type": "stream",
     "text": [
      "61\n"
     ]
    },
    {
     "name": "stderr",
     "output_type": "stream",
     "text": [
      "<ipython-input-19-26b27108d2b0>:18: RuntimeWarning: invalid value encountered in true_divide\n",
      "  bold_data_norm = (bold_data_norm / (np.std(bold_data_norm,3)[:,:,:,np.newaxis]))\n"
     ]
    },
    {
     "name": "stdout",
     "output_type": "stream",
     "text": [
      "62\n"
     ]
    },
    {
     "name": "stderr",
     "output_type": "stream",
     "text": [
      "<ipython-input-19-26b27108d2b0>:18: RuntimeWarning: invalid value encountered in true_divide\n",
      "  bold_data_norm = (bold_data_norm / (np.std(bold_data_norm,3)[:,:,:,np.newaxis]))\n"
     ]
    },
    {
     "name": "stdout",
     "output_type": "stream",
     "text": [
      "63\n"
     ]
    },
    {
     "name": "stderr",
     "output_type": "stream",
     "text": [
      "<ipython-input-19-26b27108d2b0>:18: RuntimeWarning: invalid value encountered in true_divide\n",
      "  bold_data_norm = (bold_data_norm / (np.std(bold_data_norm,3)[:,:,:,np.newaxis]))\n"
     ]
    },
    {
     "name": "stdout",
     "output_type": "stream",
     "text": [
      "64\n"
     ]
    },
    {
     "name": "stderr",
     "output_type": "stream",
     "text": [
      "<ipython-input-19-26b27108d2b0>:18: RuntimeWarning: invalid value encountered in true_divide\n",
      "  bold_data_norm = (bold_data_norm / (np.std(bold_data_norm,3)[:,:,:,np.newaxis]))\n"
     ]
    },
    {
     "name": "stdout",
     "output_type": "stream",
     "text": [
      "65\n"
     ]
    },
    {
     "name": "stderr",
     "output_type": "stream",
     "text": [
      "<ipython-input-19-26b27108d2b0>:18: RuntimeWarning: invalid value encountered in true_divide\n",
      "  bold_data_norm = (bold_data_norm / (np.std(bold_data_norm,3)[:,:,:,np.newaxis]))\n"
     ]
    },
    {
     "name": "stdout",
     "output_type": "stream",
     "text": [
      "66\n"
     ]
    },
    {
     "name": "stderr",
     "output_type": "stream",
     "text": [
      "<ipython-input-19-26b27108d2b0>:18: RuntimeWarning: invalid value encountered in true_divide\n",
      "  bold_data_norm = (bold_data_norm / (np.std(bold_data_norm,3)[:,:,:,np.newaxis]))\n"
     ]
    },
    {
     "name": "stdout",
     "output_type": "stream",
     "text": [
      "67\n"
     ]
    },
    {
     "name": "stderr",
     "output_type": "stream",
     "text": [
      "<ipython-input-19-26b27108d2b0>:18: RuntimeWarning: invalid value encountered in true_divide\n",
      "  bold_data_norm = (bold_data_norm / (np.std(bold_data_norm,3)[:,:,:,np.newaxis]))\n"
     ]
    },
    {
     "name": "stdout",
     "output_type": "stream",
     "text": [
      "68\n"
     ]
    },
    {
     "name": "stderr",
     "output_type": "stream",
     "text": [
      "<ipython-input-19-26b27108d2b0>:18: RuntimeWarning: invalid value encountered in true_divide\n",
      "  bold_data_norm = (bold_data_norm / (np.std(bold_data_norm,3)[:,:,:,np.newaxis]))\n"
     ]
    },
    {
     "name": "stdout",
     "output_type": "stream",
     "text": [
      "69\n"
     ]
    },
    {
     "name": "stderr",
     "output_type": "stream",
     "text": [
      "<ipython-input-19-26b27108d2b0>:18: RuntimeWarning: invalid value encountered in true_divide\n",
      "  bold_data_norm = (bold_data_norm / (np.std(bold_data_norm,3)[:,:,:,np.newaxis]))\n"
     ]
    },
    {
     "name": "stdout",
     "output_type": "stream",
     "text": [
      "70\n"
     ]
    },
    {
     "name": "stderr",
     "output_type": "stream",
     "text": [
      "<ipython-input-19-26b27108d2b0>:18: RuntimeWarning: invalid value encountered in true_divide\n",
      "  bold_data_norm = (bold_data_norm / (np.std(bold_data_norm,3)[:,:,:,np.newaxis]))\n"
     ]
    },
    {
     "name": "stdout",
     "output_type": "stream",
     "text": [
      "71\n"
     ]
    },
    {
     "name": "stderr",
     "output_type": "stream",
     "text": [
      "<ipython-input-19-26b27108d2b0>:18: RuntimeWarning: invalid value encountered in true_divide\n",
      "  bold_data_norm = (bold_data_norm / (np.std(bold_data_norm,3)[:,:,:,np.newaxis]))\n"
     ]
    },
    {
     "name": "stdout",
     "output_type": "stream",
     "text": [
      "72\n"
     ]
    },
    {
     "name": "stderr",
     "output_type": "stream",
     "text": [
      "<ipython-input-19-26b27108d2b0>:18: RuntimeWarning: invalid value encountered in true_divide\n",
      "  bold_data_norm = (bold_data_norm / (np.std(bold_data_norm,3)[:,:,:,np.newaxis]))\n"
     ]
    },
    {
     "name": "stdout",
     "output_type": "stream",
     "text": [
      "73\n"
     ]
    },
    {
     "name": "stderr",
     "output_type": "stream",
     "text": [
      "<ipython-input-19-26b27108d2b0>:18: RuntimeWarning: invalid value encountered in true_divide\n",
      "  bold_data_norm = (bold_data_norm / (np.std(bold_data_norm,3)[:,:,:,np.newaxis]))\n"
     ]
    },
    {
     "name": "stdout",
     "output_type": "stream",
     "text": [
      "74\n"
     ]
    },
    {
     "name": "stderr",
     "output_type": "stream",
     "text": [
      "<ipython-input-19-26b27108d2b0>:18: RuntimeWarning: invalid value encountered in true_divide\n",
      "  bold_data_norm = (bold_data_norm / (np.std(bold_data_norm,3)[:,:,:,np.newaxis]))\n"
     ]
    },
    {
     "name": "stdout",
     "output_type": "stream",
     "text": [
      "75\n"
     ]
    },
    {
     "name": "stderr",
     "output_type": "stream",
     "text": [
      "<ipython-input-19-26b27108d2b0>:18: RuntimeWarning: invalid value encountered in true_divide\n",
      "  bold_data_norm = (bold_data_norm / (np.std(bold_data_norm,3)[:,:,:,np.newaxis]))\n"
     ]
    },
    {
     "name": "stdout",
     "output_type": "stream",
     "text": [
      "76\n"
     ]
    },
    {
     "name": "stderr",
     "output_type": "stream",
     "text": [
      "<ipython-input-19-26b27108d2b0>:18: RuntimeWarning: invalid value encountered in true_divide\n",
      "  bold_data_norm = (bold_data_norm / (np.std(bold_data_norm,3)[:,:,:,np.newaxis]))\n"
     ]
    },
    {
     "name": "stdout",
     "output_type": "stream",
     "text": [
      "77\n"
     ]
    },
    {
     "name": "stderr",
     "output_type": "stream",
     "text": [
      "<ipython-input-19-26b27108d2b0>:18: RuntimeWarning: invalid value encountered in true_divide\n",
      "  bold_data_norm = (bold_data_norm / (np.std(bold_data_norm,3)[:,:,:,np.newaxis]))\n"
     ]
    },
    {
     "name": "stdout",
     "output_type": "stream",
     "text": [
      "78\n"
     ]
    },
    {
     "name": "stderr",
     "output_type": "stream",
     "text": [
      "<ipython-input-19-26b27108d2b0>:18: RuntimeWarning: invalid value encountered in true_divide\n",
      "  bold_data_norm = (bold_data_norm / (np.std(bold_data_norm,3)[:,:,:,np.newaxis]))\n"
     ]
    },
    {
     "name": "stdout",
     "output_type": "stream",
     "text": [
      "79\n"
     ]
    },
    {
     "name": "stderr",
     "output_type": "stream",
     "text": [
      "<ipython-input-19-26b27108d2b0>:18: RuntimeWarning: invalid value encountered in true_divide\n",
      "  bold_data_norm = (bold_data_norm / (np.std(bold_data_norm,3)[:,:,:,np.newaxis]))\n"
     ]
    },
    {
     "name": "stdout",
     "output_type": "stream",
     "text": [
      "80\n"
     ]
    },
    {
     "name": "stderr",
     "output_type": "stream",
     "text": [
      "<ipython-input-19-26b27108d2b0>:18: RuntimeWarning: invalid value encountered in true_divide\n",
      "  bold_data_norm = (bold_data_norm / (np.std(bold_data_norm,3)[:,:,:,np.newaxis]))\n"
     ]
    },
    {
     "name": "stdout",
     "output_type": "stream",
     "text": [
      "81\n"
     ]
    },
    {
     "name": "stderr",
     "output_type": "stream",
     "text": [
      "<ipython-input-19-26b27108d2b0>:18: RuntimeWarning: invalid value encountered in true_divide\n",
      "  bold_data_norm = (bold_data_norm / (np.std(bold_data_norm,3)[:,:,:,np.newaxis]))\n"
     ]
    },
    {
     "name": "stdout",
     "output_type": "stream",
     "text": [
      "82\n"
     ]
    },
    {
     "name": "stderr",
     "output_type": "stream",
     "text": [
      "<ipython-input-19-26b27108d2b0>:18: RuntimeWarning: invalid value encountered in true_divide\n",
      "  bold_data_norm = (bold_data_norm / (np.std(bold_data_norm,3)[:,:,:,np.newaxis]))\n"
     ]
    },
    {
     "name": "stdout",
     "output_type": "stream",
     "text": [
      "83\n"
     ]
    },
    {
     "name": "stderr",
     "output_type": "stream",
     "text": [
      "<ipython-input-19-26b27108d2b0>:18: RuntimeWarning: invalid value encountered in true_divide\n",
      "  bold_data_norm = (bold_data_norm / (np.std(bold_data_norm,3)[:,:,:,np.newaxis]))\n"
     ]
    },
    {
     "name": "stdout",
     "output_type": "stream",
     "text": [
      "84\n"
     ]
    },
    {
     "name": "stderr",
     "output_type": "stream",
     "text": [
      "<ipython-input-19-26b27108d2b0>:18: RuntimeWarning: invalid value encountered in true_divide\n",
      "  bold_data_norm = (bold_data_norm / (np.std(bold_data_norm,3)[:,:,:,np.newaxis]))\n"
     ]
    },
    {
     "name": "stdout",
     "output_type": "stream",
     "text": [
      "85\n"
     ]
    },
    {
     "name": "stderr",
     "output_type": "stream",
     "text": [
      "<ipython-input-19-26b27108d2b0>:18: RuntimeWarning: invalid value encountered in true_divide\n",
      "  bold_data_norm = (bold_data_norm / (np.std(bold_data_norm,3)[:,:,:,np.newaxis]))\n"
     ]
    },
    {
     "name": "stdout",
     "output_type": "stream",
     "text": [
      "86\n"
     ]
    },
    {
     "name": "stderr",
     "output_type": "stream",
     "text": [
      "<ipython-input-19-26b27108d2b0>:18: RuntimeWarning: invalid value encountered in true_divide\n",
      "  bold_data_norm = (bold_data_norm / (np.std(bold_data_norm,3)[:,:,:,np.newaxis]))\n"
     ]
    },
    {
     "name": "stdout",
     "output_type": "stream",
     "text": [
      "87\n"
     ]
    },
    {
     "name": "stderr",
     "output_type": "stream",
     "text": [
      "<ipython-input-19-26b27108d2b0>:18: RuntimeWarning: invalid value encountered in true_divide\n",
      "  bold_data_norm = (bold_data_norm / (np.std(bold_data_norm,3)[:,:,:,np.newaxis]))\n"
     ]
    },
    {
     "name": "stdout",
     "output_type": "stream",
     "text": [
      "88\n"
     ]
    },
    {
     "name": "stderr",
     "output_type": "stream",
     "text": [
      "<ipython-input-19-26b27108d2b0>:18: RuntimeWarning: invalid value encountered in true_divide\n",
      "  bold_data_norm = (bold_data_norm / (np.std(bold_data_norm,3)[:,:,:,np.newaxis]))\n"
     ]
    },
    {
     "name": "stdout",
     "output_type": "stream",
     "text": [
      "89\n"
     ]
    },
    {
     "name": "stderr",
     "output_type": "stream",
     "text": [
      "<ipython-input-19-26b27108d2b0>:18: RuntimeWarning: invalid value encountered in true_divide\n",
      "  bold_data_norm = (bold_data_norm / (np.std(bold_data_norm,3)[:,:,:,np.newaxis]))\n"
     ]
    },
    {
     "name": "stdout",
     "output_type": "stream",
     "text": [
      "90\n"
     ]
    },
    {
     "name": "stderr",
     "output_type": "stream",
     "text": [
      "<ipython-input-19-26b27108d2b0>:18: RuntimeWarning: invalid value encountered in true_divide\n",
      "  bold_data_norm = (bold_data_norm / (np.std(bold_data_norm,3)[:,:,:,np.newaxis]))\n"
     ]
    },
    {
     "name": "stdout",
     "output_type": "stream",
     "text": [
      "91\n"
     ]
    },
    {
     "name": "stderr",
     "output_type": "stream",
     "text": [
      "<ipython-input-19-26b27108d2b0>:18: RuntimeWarning: invalid value encountered in true_divide\n",
      "  bold_data_norm = (bold_data_norm / (np.std(bold_data_norm,3)[:,:,:,np.newaxis]))\n"
     ]
    },
    {
     "name": "stdout",
     "output_type": "stream",
     "text": [
      "92\n"
     ]
    },
    {
     "name": "stderr",
     "output_type": "stream",
     "text": [
      "<ipython-input-19-26b27108d2b0>:18: RuntimeWarning: invalid value encountered in true_divide\n",
      "  bold_data_norm = (bold_data_norm / (np.std(bold_data_norm,3)[:,:,:,np.newaxis]))\n"
     ]
    },
    {
     "name": "stdout",
     "output_type": "stream",
     "text": [
      "93\n"
     ]
    },
    {
     "name": "stderr",
     "output_type": "stream",
     "text": [
      "<ipython-input-19-26b27108d2b0>:18: RuntimeWarning: invalid value encountered in true_divide\n",
      "  bold_data_norm = (bold_data_norm / (np.std(bold_data_norm,3)[:,:,:,np.newaxis]))\n"
     ]
    },
    {
     "name": "stdout",
     "output_type": "stream",
     "text": [
      "94\n"
     ]
    },
    {
     "name": "stderr",
     "output_type": "stream",
     "text": [
      "<ipython-input-19-26b27108d2b0>:18: RuntimeWarning: invalid value encountered in true_divide\n",
      "  bold_data_norm = (bold_data_norm / (np.std(bold_data_norm,3)[:,:,:,np.newaxis]))\n"
     ]
    },
    {
     "name": "stdout",
     "output_type": "stream",
     "text": [
      "95\n"
     ]
    },
    {
     "name": "stderr",
     "output_type": "stream",
     "text": [
      "<ipython-input-19-26b27108d2b0>:18: RuntimeWarning: invalid value encountered in true_divide\n",
      "  bold_data_norm = (bold_data_norm / (np.std(bold_data_norm,3)[:,:,:,np.newaxis]))\n"
     ]
    },
    {
     "name": "stdout",
     "output_type": "stream",
     "text": [
      "96\n"
     ]
    },
    {
     "name": "stderr",
     "output_type": "stream",
     "text": [
      "<ipython-input-19-26b27108d2b0>:18: RuntimeWarning: invalid value encountered in true_divide\n",
      "  bold_data_norm = (bold_data_norm / (np.std(bold_data_norm,3)[:,:,:,np.newaxis]))\n"
     ]
    },
    {
     "name": "stdout",
     "output_type": "stream",
     "text": [
      "97\n"
     ]
    },
    {
     "name": "stderr",
     "output_type": "stream",
     "text": [
      "<ipython-input-19-26b27108d2b0>:18: RuntimeWarning: invalid value encountered in true_divide\n",
      "  bold_data_norm = (bold_data_norm / (np.std(bold_data_norm,3)[:,:,:,np.newaxis]))\n"
     ]
    },
    {
     "name": "stdout",
     "output_type": "stream",
     "text": [
      "98\n"
     ]
    },
    {
     "name": "stderr",
     "output_type": "stream",
     "text": [
      "<ipython-input-19-26b27108d2b0>:18: RuntimeWarning: invalid value encountered in true_divide\n",
      "  bold_data_norm = (bold_data_norm / (np.std(bold_data_norm,3)[:,:,:,np.newaxis]))\n"
     ]
    },
    {
     "name": "stdout",
     "output_type": "stream",
     "text": [
      "99\n"
     ]
    },
    {
     "name": "stderr",
     "output_type": "stream",
     "text": [
      "<ipython-input-19-26b27108d2b0>:18: RuntimeWarning: invalid value encountered in true_divide\n",
      "  bold_data_norm = (bold_data_norm / (np.std(bold_data_norm,3)[:,:,:,np.newaxis]))\n"
     ]
    },
    {
     "name": "stdout",
     "output_type": "stream",
     "text": [
      "100\n"
     ]
    },
    {
     "name": "stderr",
     "output_type": "stream",
     "text": [
      "<ipython-input-19-26b27108d2b0>:18: RuntimeWarning: invalid value encountered in true_divide\n",
      "  bold_data_norm = (bold_data_norm / (np.std(bold_data_norm,3)[:,:,:,np.newaxis]))\n"
     ]
    },
    {
     "name": "stdout",
     "output_type": "stream",
     "text": [
      "101\n"
     ]
    },
    {
     "name": "stderr",
     "output_type": "stream",
     "text": [
      "<ipython-input-19-26b27108d2b0>:18: RuntimeWarning: invalid value encountered in true_divide\n",
      "  bold_data_norm = (bold_data_norm / (np.std(bold_data_norm,3)[:,:,:,np.newaxis]))\n"
     ]
    },
    {
     "name": "stdout",
     "output_type": "stream",
     "text": [
      "102\n"
     ]
    },
    {
     "name": "stderr",
     "output_type": "stream",
     "text": [
      "<ipython-input-19-26b27108d2b0>:18: RuntimeWarning: invalid value encountered in true_divide\n",
      "  bold_data_norm = (bold_data_norm / (np.std(bold_data_norm,3)[:,:,:,np.newaxis]))\n"
     ]
    },
    {
     "name": "stdout",
     "output_type": "stream",
     "text": [
      "103\n"
     ]
    },
    {
     "name": "stderr",
     "output_type": "stream",
     "text": [
      "<ipython-input-19-26b27108d2b0>:18: RuntimeWarning: invalid value encountered in true_divide\n",
      "  bold_data_norm = (bold_data_norm / (np.std(bold_data_norm,3)[:,:,:,np.newaxis]))\n"
     ]
    },
    {
     "name": "stdout",
     "output_type": "stream",
     "text": [
      "104\n"
     ]
    },
    {
     "name": "stderr",
     "output_type": "stream",
     "text": [
      "<ipython-input-19-26b27108d2b0>:18: RuntimeWarning: invalid value encountered in true_divide\n",
      "  bold_data_norm = (bold_data_norm / (np.std(bold_data_norm,3)[:,:,:,np.newaxis]))\n"
     ]
    },
    {
     "name": "stdout",
     "output_type": "stream",
     "text": [
      "105\n"
     ]
    },
    {
     "name": "stderr",
     "output_type": "stream",
     "text": [
      "<ipython-input-19-26b27108d2b0>:18: RuntimeWarning: invalid value encountered in true_divide\n",
      "  bold_data_norm = (bold_data_norm / (np.std(bold_data_norm,3)[:,:,:,np.newaxis]))\n"
     ]
    },
    {
     "name": "stdout",
     "output_type": "stream",
     "text": [
      "106\n"
     ]
    },
    {
     "name": "stderr",
     "output_type": "stream",
     "text": [
      "<ipython-input-19-26b27108d2b0>:18: RuntimeWarning: invalid value encountered in true_divide\n",
      "  bold_data_norm = (bold_data_norm / (np.std(bold_data_norm,3)[:,:,:,np.newaxis]))\n"
     ]
    },
    {
     "name": "stdout",
     "output_type": "stream",
     "text": [
      "107\n"
     ]
    },
    {
     "name": "stderr",
     "output_type": "stream",
     "text": [
      "<ipython-input-19-26b27108d2b0>:18: RuntimeWarning: invalid value encountered in true_divide\n",
      "  bold_data_norm = (bold_data_norm / (np.std(bold_data_norm,3)[:,:,:,np.newaxis]))\n"
     ]
    },
    {
     "name": "stdout",
     "output_type": "stream",
     "text": [
      "108\n"
     ]
    },
    {
     "name": "stderr",
     "output_type": "stream",
     "text": [
      "<ipython-input-19-26b27108d2b0>:18: RuntimeWarning: invalid value encountered in true_divide\n",
      "  bold_data_norm = (bold_data_norm / (np.std(bold_data_norm,3)[:,:,:,np.newaxis]))\n"
     ]
    },
    {
     "name": "stdout",
     "output_type": "stream",
     "text": [
      "109\n"
     ]
    },
    {
     "name": "stderr",
     "output_type": "stream",
     "text": [
      "<ipython-input-19-26b27108d2b0>:18: RuntimeWarning: invalid value encountered in true_divide\n",
      "  bold_data_norm = (bold_data_norm / (np.std(bold_data_norm,3)[:,:,:,np.newaxis]))\n"
     ]
    },
    {
     "name": "stdout",
     "output_type": "stream",
     "text": [
      "110\n"
     ]
    },
    {
     "name": "stderr",
     "output_type": "stream",
     "text": [
      "<ipython-input-19-26b27108d2b0>:18: RuntimeWarning: invalid value encountered in true_divide\n",
      "  bold_data_norm = (bold_data_norm / (np.std(bold_data_norm,3)[:,:,:,np.newaxis]))\n"
     ]
    },
    {
     "name": "stdout",
     "output_type": "stream",
     "text": [
      "111\n"
     ]
    },
    {
     "name": "stderr",
     "output_type": "stream",
     "text": [
      "<ipython-input-19-26b27108d2b0>:18: RuntimeWarning: invalid value encountered in true_divide\n",
      "  bold_data_norm = (bold_data_norm / (np.std(bold_data_norm,3)[:,:,:,np.newaxis]))\n"
     ]
    },
    {
     "name": "stdout",
     "output_type": "stream",
     "text": [
      "112\n"
     ]
    },
    {
     "name": "stderr",
     "output_type": "stream",
     "text": [
      "<ipython-input-19-26b27108d2b0>:18: RuntimeWarning: invalid value encountered in true_divide\n",
      "  bold_data_norm = (bold_data_norm / (np.std(bold_data_norm,3)[:,:,:,np.newaxis]))\n"
     ]
    },
    {
     "name": "stdout",
     "output_type": "stream",
     "text": [
      "113\n"
     ]
    },
    {
     "name": "stderr",
     "output_type": "stream",
     "text": [
      "<ipython-input-19-26b27108d2b0>:18: RuntimeWarning: invalid value encountered in true_divide\n",
      "  bold_data_norm = (bold_data_norm / (np.std(bold_data_norm,3)[:,:,:,np.newaxis]))\n"
     ]
    },
    {
     "name": "stdout",
     "output_type": "stream",
     "text": [
      "114\n"
     ]
    },
    {
     "name": "stderr",
     "output_type": "stream",
     "text": [
      "<ipython-input-19-26b27108d2b0>:18: RuntimeWarning: invalid value encountered in true_divide\n",
      "  bold_data_norm = (bold_data_norm / (np.std(bold_data_norm,3)[:,:,:,np.newaxis]))\n"
     ]
    },
    {
     "name": "stdout",
     "output_type": "stream",
     "text": [
      "115\n"
     ]
    },
    {
     "name": "stderr",
     "output_type": "stream",
     "text": [
      "<ipython-input-19-26b27108d2b0>:18: RuntimeWarning: invalid value encountered in true_divide\n",
      "  bold_data_norm = (bold_data_norm / (np.std(bold_data_norm,3)[:,:,:,np.newaxis]))\n"
     ]
    },
    {
     "name": "stdout",
     "output_type": "stream",
     "text": [
      "116\n"
     ]
    },
    {
     "name": "stderr",
     "output_type": "stream",
     "text": [
      "<ipython-input-19-26b27108d2b0>:18: RuntimeWarning: invalid value encountered in true_divide\n",
      "  bold_data_norm = (bold_data_norm / (np.std(bold_data_norm,3)[:,:,:,np.newaxis]))\n"
     ]
    },
    {
     "name": "stdout",
     "output_type": "stream",
     "text": [
      "117\n"
     ]
    },
    {
     "name": "stderr",
     "output_type": "stream",
     "text": [
      "<ipython-input-19-26b27108d2b0>:18: RuntimeWarning: invalid value encountered in true_divide\n",
      "  bold_data_norm = (bold_data_norm / (np.std(bold_data_norm,3)[:,:,:,np.newaxis]))\n"
     ]
    },
    {
     "name": "stdout",
     "output_type": "stream",
     "text": [
      "118\n"
     ]
    },
    {
     "name": "stderr",
     "output_type": "stream",
     "text": [
      "<ipython-input-19-26b27108d2b0>:18: RuntimeWarning: invalid value encountered in true_divide\n",
      "  bold_data_norm = (bold_data_norm / (np.std(bold_data_norm,3)[:,:,:,np.newaxis]))\n"
     ]
    },
    {
     "name": "stdout",
     "output_type": "stream",
     "text": [
      "119\n"
     ]
    },
    {
     "name": "stderr",
     "output_type": "stream",
     "text": [
      "<ipython-input-19-26b27108d2b0>:18: RuntimeWarning: invalid value encountered in true_divide\n",
      "  bold_data_norm = (bold_data_norm / (np.std(bold_data_norm,3)[:,:,:,np.newaxis]))\n"
     ]
    },
    {
     "name": "stdout",
     "output_type": "stream",
     "text": [
      "120\n"
     ]
    },
    {
     "name": "stderr",
     "output_type": "stream",
     "text": [
      "<ipython-input-19-26b27108d2b0>:18: RuntimeWarning: invalid value encountered in true_divide\n",
      "  bold_data_norm = (bold_data_norm / (np.std(bold_data_norm,3)[:,:,:,np.newaxis]))\n"
     ]
    },
    {
     "name": "stdout",
     "output_type": "stream",
     "text": [
      "121\n"
     ]
    },
    {
     "name": "stderr",
     "output_type": "stream",
     "text": [
      "<ipython-input-19-26b27108d2b0>:18: RuntimeWarning: invalid value encountered in true_divide\n",
      "  bold_data_norm = (bold_data_norm / (np.std(bold_data_norm,3)[:,:,:,np.newaxis]))\n"
     ]
    },
    {
     "name": "stdout",
     "output_type": "stream",
     "text": [
      "122\n"
     ]
    },
    {
     "name": "stderr",
     "output_type": "stream",
     "text": [
      "<ipython-input-19-26b27108d2b0>:18: RuntimeWarning: invalid value encountered in true_divide\n",
      "  bold_data_norm = (bold_data_norm / (np.std(bold_data_norm,3)[:,:,:,np.newaxis]))\n"
     ]
    },
    {
     "name": "stdout",
     "output_type": "stream",
     "text": [
      "123\n"
     ]
    },
    {
     "name": "stderr",
     "output_type": "stream",
     "text": [
      "<ipython-input-19-26b27108d2b0>:18: RuntimeWarning: invalid value encountered in true_divide\n",
      "  bold_data_norm = (bold_data_norm / (np.std(bold_data_norm,3)[:,:,:,np.newaxis]))\n"
     ]
    },
    {
     "name": "stdout",
     "output_type": "stream",
     "text": [
      "124\n"
     ]
    },
    {
     "name": "stderr",
     "output_type": "stream",
     "text": [
      "<ipython-input-19-26b27108d2b0>:18: RuntimeWarning: invalid value encountered in true_divide\n",
      "  bold_data_norm = (bold_data_norm / (np.std(bold_data_norm,3)[:,:,:,np.newaxis]))\n"
     ]
    },
    {
     "name": "stdout",
     "output_type": "stream",
     "text": [
      "125\n"
     ]
    },
    {
     "name": "stderr",
     "output_type": "stream",
     "text": [
      "<ipython-input-19-26b27108d2b0>:18: RuntimeWarning: invalid value encountered in true_divide\n",
      "  bold_data_norm = (bold_data_norm / (np.std(bold_data_norm,3)[:,:,:,np.newaxis]))\n"
     ]
    },
    {
     "name": "stdout",
     "output_type": "stream",
     "text": [
      "126\n"
     ]
    },
    {
     "name": "stderr",
     "output_type": "stream",
     "text": [
      "<ipython-input-19-26b27108d2b0>:18: RuntimeWarning: invalid value encountered in true_divide\n",
      "  bold_data_norm = (bold_data_norm / (np.std(bold_data_norm,3)[:,:,:,np.newaxis]))\n"
     ]
    },
    {
     "name": "stdout",
     "output_type": "stream",
     "text": [
      "127\n"
     ]
    },
    {
     "name": "stderr",
     "output_type": "stream",
     "text": [
      "<ipython-input-19-26b27108d2b0>:18: RuntimeWarning: invalid value encountered in true_divide\n",
      "  bold_data_norm = (bold_data_norm / (np.std(bold_data_norm,3)[:,:,:,np.newaxis]))\n"
     ]
    },
    {
     "name": "stdout",
     "output_type": "stream",
     "text": [
      "128\n"
     ]
    },
    {
     "name": "stderr",
     "output_type": "stream",
     "text": [
      "<ipython-input-19-26b27108d2b0>:18: RuntimeWarning: invalid value encountered in true_divide\n",
      "  bold_data_norm = (bold_data_norm / (np.std(bold_data_norm,3)[:,:,:,np.newaxis]))\n"
     ]
    },
    {
     "name": "stdout",
     "output_type": "stream",
     "text": [
      "129\n"
     ]
    },
    {
     "name": "stderr",
     "output_type": "stream",
     "text": [
      "<ipython-input-19-26b27108d2b0>:18: RuntimeWarning: invalid value encountered in true_divide\n",
      "  bold_data_norm = (bold_data_norm / (np.std(bold_data_norm,3)[:,:,:,np.newaxis]))\n"
     ]
    },
    {
     "name": "stdout",
     "output_type": "stream",
     "text": [
      "130\n"
     ]
    },
    {
     "name": "stderr",
     "output_type": "stream",
     "text": [
      "<ipython-input-19-26b27108d2b0>:18: RuntimeWarning: invalid value encountered in true_divide\n",
      "  bold_data_norm = (bold_data_norm / (np.std(bold_data_norm,3)[:,:,:,np.newaxis]))\n"
     ]
    },
    {
     "name": "stdout",
     "output_type": "stream",
     "text": [
      "131\n"
     ]
    },
    {
     "name": "stderr",
     "output_type": "stream",
     "text": [
      "<ipython-input-19-26b27108d2b0>:18: RuntimeWarning: invalid value encountered in true_divide\n",
      "  bold_data_norm = (bold_data_norm / (np.std(bold_data_norm,3)[:,:,:,np.newaxis]))\n"
     ]
    },
    {
     "name": "stdout",
     "output_type": "stream",
     "text": [
      "132\n"
     ]
    },
    {
     "name": "stderr",
     "output_type": "stream",
     "text": [
      "<ipython-input-19-26b27108d2b0>:18: RuntimeWarning: invalid value encountered in true_divide\n",
      "  bold_data_norm = (bold_data_norm / (np.std(bold_data_norm,3)[:,:,:,np.newaxis]))\n"
     ]
    },
    {
     "name": "stdout",
     "output_type": "stream",
     "text": [
      "133\n"
     ]
    },
    {
     "name": "stderr",
     "output_type": "stream",
     "text": [
      "<ipython-input-19-26b27108d2b0>:18: RuntimeWarning: invalid value encountered in true_divide\n",
      "  bold_data_norm = (bold_data_norm / (np.std(bold_data_norm,3)[:,:,:,np.newaxis]))\n"
     ]
    },
    {
     "name": "stdout",
     "output_type": "stream",
     "text": [
      "134\n"
     ]
    },
    {
     "name": "stderr",
     "output_type": "stream",
     "text": [
      "<ipython-input-19-26b27108d2b0>:18: RuntimeWarning: invalid value encountered in true_divide\n",
      "  bold_data_norm = (bold_data_norm / (np.std(bold_data_norm,3)[:,:,:,np.newaxis]))\n"
     ]
    },
    {
     "name": "stdout",
     "output_type": "stream",
     "text": [
      "135\n"
     ]
    },
    {
     "name": "stderr",
     "output_type": "stream",
     "text": [
      "<ipython-input-19-26b27108d2b0>:18: RuntimeWarning: invalid value encountered in true_divide\n",
      "  bold_data_norm = (bold_data_norm / (np.std(bold_data_norm,3)[:,:,:,np.newaxis]))\n"
     ]
    },
    {
     "name": "stdout",
     "output_type": "stream",
     "text": [
      "136\n"
     ]
    },
    {
     "name": "stderr",
     "output_type": "stream",
     "text": [
      "<ipython-input-19-26b27108d2b0>:18: RuntimeWarning: invalid value encountered in true_divide\n",
      "  bold_data_norm = (bold_data_norm / (np.std(bold_data_norm,3)[:,:,:,np.newaxis]))\n"
     ]
    },
    {
     "name": "stdout",
     "output_type": "stream",
     "text": [
      "137\n"
     ]
    },
    {
     "name": "stderr",
     "output_type": "stream",
     "text": [
      "<ipython-input-19-26b27108d2b0>:18: RuntimeWarning: invalid value encountered in true_divide\n",
      "  bold_data_norm = (bold_data_norm / (np.std(bold_data_norm,3)[:,:,:,np.newaxis]))\n"
     ]
    },
    {
     "name": "stdout",
     "output_type": "stream",
     "text": [
      "138\n"
     ]
    },
    {
     "name": "stderr",
     "output_type": "stream",
     "text": [
      "<ipython-input-19-26b27108d2b0>:18: RuntimeWarning: invalid value encountered in true_divide\n",
      "  bold_data_norm = (bold_data_norm / (np.std(bold_data_norm,3)[:,:,:,np.newaxis]))\n"
     ]
    },
    {
     "name": "stdout",
     "output_type": "stream",
     "text": [
      "139\n"
     ]
    },
    {
     "name": "stderr",
     "output_type": "stream",
     "text": [
      "<ipython-input-19-26b27108d2b0>:18: RuntimeWarning: invalid value encountered in true_divide\n",
      "  bold_data_norm = (bold_data_norm / (np.std(bold_data_norm,3)[:,:,:,np.newaxis]))\n"
     ]
    },
    {
     "name": "stdout",
     "output_type": "stream",
     "text": [
      "140\n"
     ]
    },
    {
     "name": "stderr",
     "output_type": "stream",
     "text": [
      "<ipython-input-19-26b27108d2b0>:18: RuntimeWarning: invalid value encountered in true_divide\n",
      "  bold_data_norm = (bold_data_norm / (np.std(bold_data_norm,3)[:,:,:,np.newaxis]))\n"
     ]
    },
    {
     "name": "stdout",
     "output_type": "stream",
     "text": [
      "141\n"
     ]
    },
    {
     "name": "stderr",
     "output_type": "stream",
     "text": [
      "<ipython-input-19-26b27108d2b0>:18: RuntimeWarning: invalid value encountered in true_divide\n",
      "  bold_data_norm = (bold_data_norm / (np.std(bold_data_norm,3)[:,:,:,np.newaxis]))\n"
     ]
    },
    {
     "name": "stdout",
     "output_type": "stream",
     "text": [
      "142\n"
     ]
    },
    {
     "name": "stderr",
     "output_type": "stream",
     "text": [
      "<ipython-input-19-26b27108d2b0>:18: RuntimeWarning: invalid value encountered in true_divide\n",
      "  bold_data_norm = (bold_data_norm / (np.std(bold_data_norm,3)[:,:,:,np.newaxis]))\n"
     ]
    },
    {
     "name": "stdout",
     "output_type": "stream",
     "text": [
      "143\n"
     ]
    },
    {
     "name": "stderr",
     "output_type": "stream",
     "text": [
      "<ipython-input-19-26b27108d2b0>:18: RuntimeWarning: invalid value encountered in true_divide\n",
      "  bold_data_norm = (bold_data_norm / (np.std(bold_data_norm,3)[:,:,:,np.newaxis]))\n"
     ]
    },
    {
     "name": "stdout",
     "output_type": "stream",
     "text": [
      "144\n"
     ]
    },
    {
     "name": "stderr",
     "output_type": "stream",
     "text": [
      "<ipython-input-19-26b27108d2b0>:18: RuntimeWarning: invalid value encountered in true_divide\n",
      "  bold_data_norm = (bold_data_norm / (np.std(bold_data_norm,3)[:,:,:,np.newaxis]))\n"
     ]
    },
    {
     "name": "stdout",
     "output_type": "stream",
     "text": [
      "145\n"
     ]
    },
    {
     "name": "stderr",
     "output_type": "stream",
     "text": [
      "<ipython-input-19-26b27108d2b0>:18: RuntimeWarning: invalid value encountered in true_divide\n",
      "  bold_data_norm = (bold_data_norm / (np.std(bold_data_norm,3)[:,:,:,np.newaxis]))\n"
     ]
    },
    {
     "name": "stdout",
     "output_type": "stream",
     "text": [
      "146\n"
     ]
    },
    {
     "name": "stderr",
     "output_type": "stream",
     "text": [
      "<ipython-input-19-26b27108d2b0>:18: RuntimeWarning: invalid value encountered in true_divide\n",
      "  bold_data_norm = (bold_data_norm / (np.std(bold_data_norm,3)[:,:,:,np.newaxis]))\n"
     ]
    },
    {
     "name": "stdout",
     "output_type": "stream",
     "text": [
      "147\n"
     ]
    },
    {
     "name": "stderr",
     "output_type": "stream",
     "text": [
      "<ipython-input-19-26b27108d2b0>:18: RuntimeWarning: invalid value encountered in true_divide\n",
      "  bold_data_norm = (bold_data_norm / (np.std(bold_data_norm,3)[:,:,:,np.newaxis]))\n"
     ]
    },
    {
     "name": "stdout",
     "output_type": "stream",
     "text": [
      "148\n"
     ]
    },
    {
     "name": "stderr",
     "output_type": "stream",
     "text": [
      "<ipython-input-19-26b27108d2b0>:18: RuntimeWarning: invalid value encountered in true_divide\n",
      "  bold_data_norm = (bold_data_norm / (np.std(bold_data_norm,3)[:,:,:,np.newaxis]))\n"
     ]
    },
    {
     "name": "stdout",
     "output_type": "stream",
     "text": [
      "149\n"
     ]
    },
    {
     "name": "stderr",
     "output_type": "stream",
     "text": [
      "<ipython-input-19-26b27108d2b0>:18: RuntimeWarning: invalid value encountered in true_divide\n",
      "  bold_data_norm = (bold_data_norm / (np.std(bold_data_norm,3)[:,:,:,np.newaxis]))\n"
     ]
    },
    {
     "name": "stdout",
     "output_type": "stream",
     "text": [
      "150\n"
     ]
    },
    {
     "name": "stderr",
     "output_type": "stream",
     "text": [
      "<ipython-input-19-26b27108d2b0>:18: RuntimeWarning: invalid value encountered in true_divide\n",
      "  bold_data_norm = (bold_data_norm / (np.std(bold_data_norm,3)[:,:,:,np.newaxis]))\n"
     ]
    },
    {
     "name": "stdout",
     "output_type": "stream",
     "text": [
      "151\n"
     ]
    },
    {
     "name": "stderr",
     "output_type": "stream",
     "text": [
      "<ipython-input-19-26b27108d2b0>:18: RuntimeWarning: invalid value encountered in true_divide\n",
      "  bold_data_norm = (bold_data_norm / (np.std(bold_data_norm,3)[:,:,:,np.newaxis]))\n"
     ]
    },
    {
     "name": "stdout",
     "output_type": "stream",
     "text": [
      "152\n"
     ]
    },
    {
     "name": "stderr",
     "output_type": "stream",
     "text": [
      "<ipython-input-19-26b27108d2b0>:18: RuntimeWarning: invalid value encountered in true_divide\n",
      "  bold_data_norm = (bold_data_norm / (np.std(bold_data_norm,3)[:,:,:,np.newaxis]))\n"
     ]
    },
    {
     "name": "stdout",
     "output_type": "stream",
     "text": [
      "153\n"
     ]
    },
    {
     "name": "stderr",
     "output_type": "stream",
     "text": [
      "<ipython-input-19-26b27108d2b0>:18: RuntimeWarning: invalid value encountered in true_divide\n",
      "  bold_data_norm = (bold_data_norm / (np.std(bold_data_norm,3)[:,:,:,np.newaxis]))\n"
     ]
    },
    {
     "name": "stdout",
     "output_type": "stream",
     "text": [
      "154\n"
     ]
    },
    {
     "name": "stderr",
     "output_type": "stream",
     "text": [
      "<ipython-input-19-26b27108d2b0>:18: RuntimeWarning: invalid value encountered in true_divide\n",
      "  bold_data_norm = (bold_data_norm / (np.std(bold_data_norm,3)[:,:,:,np.newaxis]))\n"
     ]
    },
    {
     "name": "stdout",
     "output_type": "stream",
     "text": [
      "155\n"
     ]
    },
    {
     "name": "stderr",
     "output_type": "stream",
     "text": [
      "<ipython-input-19-26b27108d2b0>:18: RuntimeWarning: invalid value encountered in true_divide\n",
      "  bold_data_norm = (bold_data_norm / (np.std(bold_data_norm,3)[:,:,:,np.newaxis]))\n"
     ]
    },
    {
     "name": "stdout",
     "output_type": "stream",
     "text": [
      "156\n"
     ]
    },
    {
     "name": "stderr",
     "output_type": "stream",
     "text": [
      "<ipython-input-19-26b27108d2b0>:18: RuntimeWarning: invalid value encountered in true_divide\n",
      "  bold_data_norm = (bold_data_norm / (np.std(bold_data_norm,3)[:,:,:,np.newaxis]))\n"
     ]
    },
    {
     "name": "stdout",
     "output_type": "stream",
     "text": [
      "157\n"
     ]
    },
    {
     "name": "stderr",
     "output_type": "stream",
     "text": [
      "<ipython-input-19-26b27108d2b0>:18: RuntimeWarning: invalid value encountered in true_divide\n",
      "  bold_data_norm = (bold_data_norm / (np.std(bold_data_norm,3)[:,:,:,np.newaxis]))\n"
     ]
    },
    {
     "name": "stdout",
     "output_type": "stream",
     "text": [
      "158\n"
     ]
    },
    {
     "name": "stderr",
     "output_type": "stream",
     "text": [
      "<ipython-input-19-26b27108d2b0>:18: RuntimeWarning: invalid value encountered in true_divide\n",
      "  bold_data_norm = (bold_data_norm / (np.std(bold_data_norm,3)[:,:,:,np.newaxis]))\n"
     ]
    },
    {
     "name": "stdout",
     "output_type": "stream",
     "text": [
      "159\n"
     ]
    },
    {
     "name": "stderr",
     "output_type": "stream",
     "text": [
      "<ipython-input-19-26b27108d2b0>:18: RuntimeWarning: invalid value encountered in true_divide\n",
      "  bold_data_norm = (bold_data_norm / (np.std(bold_data_norm,3)[:,:,:,np.newaxis]))\n"
     ]
    },
    {
     "name": "stdout",
     "output_type": "stream",
     "text": [
      "160\n"
     ]
    },
    {
     "name": "stderr",
     "output_type": "stream",
     "text": [
      "<ipython-input-19-26b27108d2b0>:18: RuntimeWarning: invalid value encountered in true_divide\n",
      "  bold_data_norm = (bold_data_norm / (np.std(bold_data_norm,3)[:,:,:,np.newaxis]))\n"
     ]
    },
    {
     "name": "stdout",
     "output_type": "stream",
     "text": [
      "161\n"
     ]
    },
    {
     "name": "stderr",
     "output_type": "stream",
     "text": [
      "<ipython-input-19-26b27108d2b0>:18: RuntimeWarning: invalid value encountered in true_divide\n",
      "  bold_data_norm = (bold_data_norm / (np.std(bold_data_norm,3)[:,:,:,np.newaxis]))\n"
     ]
    },
    {
     "name": "stdout",
     "output_type": "stream",
     "text": [
      "162\n"
     ]
    },
    {
     "name": "stderr",
     "output_type": "stream",
     "text": [
      "<ipython-input-19-26b27108d2b0>:18: RuntimeWarning: invalid value encountered in true_divide\n",
      "  bold_data_norm = (bold_data_norm / (np.std(bold_data_norm,3)[:,:,:,np.newaxis]))\n"
     ]
    },
    {
     "name": "stdout",
     "output_type": "stream",
     "text": [
      "163\n"
     ]
    },
    {
     "name": "stderr",
     "output_type": "stream",
     "text": [
      "<ipython-input-19-26b27108d2b0>:18: RuntimeWarning: invalid value encountered in true_divide\n",
      "  bold_data_norm = (bold_data_norm / (np.std(bold_data_norm,3)[:,:,:,np.newaxis]))\n"
     ]
    },
    {
     "name": "stdout",
     "output_type": "stream",
     "text": [
      "164\n"
     ]
    },
    {
     "name": "stderr",
     "output_type": "stream",
     "text": [
      "<ipython-input-19-26b27108d2b0>:18: RuntimeWarning: invalid value encountered in true_divide\n",
      "  bold_data_norm = (bold_data_norm / (np.std(bold_data_norm,3)[:,:,:,np.newaxis]))\n"
     ]
    },
    {
     "name": "stdout",
     "output_type": "stream",
     "text": [
      "165\n"
     ]
    },
    {
     "name": "stderr",
     "output_type": "stream",
     "text": [
      "<ipython-input-19-26b27108d2b0>:18: RuntimeWarning: invalid value encountered in true_divide\n",
      "  bold_data_norm = (bold_data_norm / (np.std(bold_data_norm,3)[:,:,:,np.newaxis]))\n"
     ]
    },
    {
     "name": "stdout",
     "output_type": "stream",
     "text": [
      "166\n"
     ]
    },
    {
     "name": "stderr",
     "output_type": "stream",
     "text": [
      "<ipython-input-19-26b27108d2b0>:18: RuntimeWarning: invalid value encountered in true_divide\n",
      "  bold_data_norm = (bold_data_norm / (np.std(bold_data_norm,3)[:,:,:,np.newaxis]))\n"
     ]
    },
    {
     "name": "stdout",
     "output_type": "stream",
     "text": [
      "167\n"
     ]
    },
    {
     "name": "stderr",
     "output_type": "stream",
     "text": [
      "<ipython-input-19-26b27108d2b0>:18: RuntimeWarning: invalid value encountered in true_divide\n",
      "  bold_data_norm = (bold_data_norm / (np.std(bold_data_norm,3)[:,:,:,np.newaxis]))\n"
     ]
    },
    {
     "name": "stdout",
     "output_type": "stream",
     "text": [
      "168\n"
     ]
    },
    {
     "name": "stderr",
     "output_type": "stream",
     "text": [
      "<ipython-input-19-26b27108d2b0>:18: RuntimeWarning: invalid value encountered in true_divide\n",
      "  bold_data_norm = (bold_data_norm / (np.std(bold_data_norm,3)[:,:,:,np.newaxis]))\n"
     ]
    },
    {
     "name": "stdout",
     "output_type": "stream",
     "text": [
      "169\n"
     ]
    },
    {
     "name": "stderr",
     "output_type": "stream",
     "text": [
      "<ipython-input-19-26b27108d2b0>:18: RuntimeWarning: invalid value encountered in true_divide\n",
      "  bold_data_norm = (bold_data_norm / (np.std(bold_data_norm,3)[:,:,:,np.newaxis]))\n"
     ]
    },
    {
     "name": "stdout",
     "output_type": "stream",
     "text": [
      "170\n"
     ]
    },
    {
     "name": "stderr",
     "output_type": "stream",
     "text": [
      "<ipython-input-19-26b27108d2b0>:18: RuntimeWarning: invalid value encountered in true_divide\n",
      "  bold_data_norm = (bold_data_norm / (np.std(bold_data_norm,3)[:,:,:,np.newaxis]))\n"
     ]
    },
    {
     "name": "stdout",
     "output_type": "stream",
     "text": [
      "171\n"
     ]
    },
    {
     "name": "stderr",
     "output_type": "stream",
     "text": [
      "<ipython-input-19-26b27108d2b0>:18: RuntimeWarning: invalid value encountered in true_divide\n",
      "  bold_data_norm = (bold_data_norm / (np.std(bold_data_norm,3)[:,:,:,np.newaxis]))\n"
     ]
    },
    {
     "name": "stdout",
     "output_type": "stream",
     "text": [
      "172\n"
     ]
    },
    {
     "name": "stderr",
     "output_type": "stream",
     "text": [
      "<ipython-input-19-26b27108d2b0>:18: RuntimeWarning: invalid value encountered in true_divide\n",
      "  bold_data_norm = (bold_data_norm / (np.std(bold_data_norm,3)[:,:,:,np.newaxis]))\n"
     ]
    },
    {
     "name": "stdout",
     "output_type": "stream",
     "text": [
      "173\n"
     ]
    },
    {
     "name": "stderr",
     "output_type": "stream",
     "text": [
      "<ipython-input-19-26b27108d2b0>:18: RuntimeWarning: invalid value encountered in true_divide\n",
      "  bold_data_norm = (bold_data_norm / (np.std(bold_data_norm,3)[:,:,:,np.newaxis]))\n"
     ]
    },
    {
     "name": "stdout",
     "output_type": "stream",
     "text": [
      "174\n"
     ]
    },
    {
     "name": "stderr",
     "output_type": "stream",
     "text": [
      "<ipython-input-19-26b27108d2b0>:18: RuntimeWarning: invalid value encountered in true_divide\n",
      "  bold_data_norm = (bold_data_norm / (np.std(bold_data_norm,3)[:,:,:,np.newaxis]))\n"
     ]
    },
    {
     "name": "stdout",
     "output_type": "stream",
     "text": [
      "175\n"
     ]
    },
    {
     "name": "stderr",
     "output_type": "stream",
     "text": [
      "<ipython-input-19-26b27108d2b0>:18: RuntimeWarning: invalid value encountered in true_divide\n",
      "  bold_data_norm = (bold_data_norm / (np.std(bold_data_norm,3)[:,:,:,np.newaxis]))\n"
     ]
    },
    {
     "name": "stdout",
     "output_type": "stream",
     "text": [
      "176\n"
     ]
    },
    {
     "name": "stderr",
     "output_type": "stream",
     "text": [
      "<ipython-input-19-26b27108d2b0>:18: RuntimeWarning: invalid value encountered in true_divide\n",
      "  bold_data_norm = (bold_data_norm / (np.std(bold_data_norm,3)[:,:,:,np.newaxis]))\n"
     ]
    },
    {
     "name": "stdout",
     "output_type": "stream",
     "text": [
      "177\n"
     ]
    },
    {
     "name": "stderr",
     "output_type": "stream",
     "text": [
      "<ipython-input-19-26b27108d2b0>:18: RuntimeWarning: invalid value encountered in true_divide\n",
      "  bold_data_norm = (bold_data_norm / (np.std(bold_data_norm,3)[:,:,:,np.newaxis]))\n"
     ]
    },
    {
     "name": "stdout",
     "output_type": "stream",
     "text": [
      "178\n"
     ]
    },
    {
     "name": "stderr",
     "output_type": "stream",
     "text": [
      "<ipython-input-19-26b27108d2b0>:18: RuntimeWarning: invalid value encountered in true_divide\n",
      "  bold_data_norm = (bold_data_norm / (np.std(bold_data_norm,3)[:,:,:,np.newaxis]))\n"
     ]
    },
    {
     "name": "stdout",
     "output_type": "stream",
     "text": [
      "179\n"
     ]
    },
    {
     "name": "stderr",
     "output_type": "stream",
     "text": [
      "<ipython-input-19-26b27108d2b0>:18: RuntimeWarning: invalid value encountered in true_divide\n",
      "  bold_data_norm = (bold_data_norm / (np.std(bold_data_norm,3)[:,:,:,np.newaxis]))\n"
     ]
    },
    {
     "name": "stdout",
     "output_type": "stream",
     "text": [
      "180\n"
     ]
    },
    {
     "name": "stderr",
     "output_type": "stream",
     "text": [
      "<ipython-input-19-26b27108d2b0>:18: RuntimeWarning: invalid value encountered in true_divide\n",
      "  bold_data_norm = (bold_data_norm / (np.std(bold_data_norm,3)[:,:,:,np.newaxis]))\n"
     ]
    },
    {
     "name": "stdout",
     "output_type": "stream",
     "text": [
      "181\n"
     ]
    },
    {
     "name": "stderr",
     "output_type": "stream",
     "text": [
      "<ipython-input-19-26b27108d2b0>:18: RuntimeWarning: invalid value encountered in true_divide\n",
      "  bold_data_norm = (bold_data_norm / (np.std(bold_data_norm,3)[:,:,:,np.newaxis]))\n"
     ]
    },
    {
     "name": "stdout",
     "output_type": "stream",
     "text": [
      "182\n"
     ]
    },
    {
     "name": "stderr",
     "output_type": "stream",
     "text": [
      "<ipython-input-19-26b27108d2b0>:18: RuntimeWarning: invalid value encountered in true_divide\n",
      "  bold_data_norm = (bold_data_norm / (np.std(bold_data_norm,3)[:,:,:,np.newaxis]))\n"
     ]
    },
    {
     "name": "stdout",
     "output_type": "stream",
     "text": [
      "183\n"
     ]
    },
    {
     "name": "stderr",
     "output_type": "stream",
     "text": [
      "<ipython-input-19-26b27108d2b0>:18: RuntimeWarning: invalid value encountered in true_divide\n",
      "  bold_data_norm = (bold_data_norm / (np.std(bold_data_norm,3)[:,:,:,np.newaxis]))\n"
     ]
    },
    {
     "name": "stdout",
     "output_type": "stream",
     "text": [
      "184\n"
     ]
    },
    {
     "name": "stderr",
     "output_type": "stream",
     "text": [
      "<ipython-input-19-26b27108d2b0>:18: RuntimeWarning: invalid value encountered in true_divide\n",
      "  bold_data_norm = (bold_data_norm / (np.std(bold_data_norm,3)[:,:,:,np.newaxis]))\n"
     ]
    },
    {
     "name": "stdout",
     "output_type": "stream",
     "text": [
      "185\n"
     ]
    },
    {
     "name": "stderr",
     "output_type": "stream",
     "text": [
      "<ipython-input-19-26b27108d2b0>:18: RuntimeWarning: invalid value encountered in true_divide\n",
      "  bold_data_norm = (bold_data_norm / (np.std(bold_data_norm,3)[:,:,:,np.newaxis]))\n"
     ]
    },
    {
     "name": "stdout",
     "output_type": "stream",
     "text": [
      "186\n"
     ]
    },
    {
     "name": "stderr",
     "output_type": "stream",
     "text": [
      "<ipython-input-19-26b27108d2b0>:18: RuntimeWarning: invalid value encountered in true_divide\n",
      "  bold_data_norm = (bold_data_norm / (np.std(bold_data_norm,3)[:,:,:,np.newaxis]))\n"
     ]
    },
    {
     "name": "stdout",
     "output_type": "stream",
     "text": [
      "187\n"
     ]
    },
    {
     "name": "stderr",
     "output_type": "stream",
     "text": [
      "<ipython-input-19-26b27108d2b0>:18: RuntimeWarning: invalid value encountered in true_divide\n",
      "  bold_data_norm = (bold_data_norm / (np.std(bold_data_norm,3)[:,:,:,np.newaxis]))\n"
     ]
    },
    {
     "name": "stdout",
     "output_type": "stream",
     "text": [
      "188\n"
     ]
    },
    {
     "name": "stderr",
     "output_type": "stream",
     "text": [
      "<ipython-input-19-26b27108d2b0>:18: RuntimeWarning: invalid value encountered in true_divide\n",
      "  bold_data_norm = (bold_data_norm / (np.std(bold_data_norm,3)[:,:,:,np.newaxis]))\n"
     ]
    },
    {
     "name": "stdout",
     "output_type": "stream",
     "text": [
      "189\n"
     ]
    },
    {
     "name": "stderr",
     "output_type": "stream",
     "text": [
      "<ipython-input-19-26b27108d2b0>:18: RuntimeWarning: invalid value encountered in true_divide\n",
      "  bold_data_norm = (bold_data_norm / (np.std(bold_data_norm,3)[:,:,:,np.newaxis]))\n"
     ]
    },
    {
     "name": "stdout",
     "output_type": "stream",
     "text": [
      "190\n"
     ]
    },
    {
     "name": "stderr",
     "output_type": "stream",
     "text": [
      "<ipython-input-19-26b27108d2b0>:18: RuntimeWarning: invalid value encountered in true_divide\n",
      "  bold_data_norm = (bold_data_norm / (np.std(bold_data_norm,3)[:,:,:,np.newaxis]))\n"
     ]
    },
    {
     "name": "stdout",
     "output_type": "stream",
     "text": [
      "191\n"
     ]
    },
    {
     "name": "stderr",
     "output_type": "stream",
     "text": [
      "<ipython-input-19-26b27108d2b0>:18: RuntimeWarning: invalid value encountered in true_divide\n",
      "  bold_data_norm = (bold_data_norm / (np.std(bold_data_norm,3)[:,:,:,np.newaxis]))\n"
     ]
    },
    {
     "name": "stdout",
     "output_type": "stream",
     "text": [
      "192\n"
     ]
    },
    {
     "name": "stderr",
     "output_type": "stream",
     "text": [
      "<ipython-input-19-26b27108d2b0>:18: RuntimeWarning: invalid value encountered in true_divide\n",
      "  bold_data_norm = (bold_data_norm / (np.std(bold_data_norm,3)[:,:,:,np.newaxis]))\n"
     ]
    },
    {
     "name": "stdout",
     "output_type": "stream",
     "text": [
      "193\n"
     ]
    },
    {
     "name": "stderr",
     "output_type": "stream",
     "text": [
      "<ipython-input-19-26b27108d2b0>:18: RuntimeWarning: invalid value encountered in true_divide\n",
      "  bold_data_norm = (bold_data_norm / (np.std(bold_data_norm,3)[:,:,:,np.newaxis]))\n"
     ]
    },
    {
     "name": "stdout",
     "output_type": "stream",
     "text": [
      "194\n"
     ]
    },
    {
     "name": "stderr",
     "output_type": "stream",
     "text": [
      "<ipython-input-19-26b27108d2b0>:18: RuntimeWarning: invalid value encountered in true_divide\n",
      "  bold_data_norm = (bold_data_norm / (np.std(bold_data_norm,3)[:,:,:,np.newaxis]))\n"
     ]
    },
    {
     "name": "stdout",
     "output_type": "stream",
     "text": [
      "195\n"
     ]
    },
    {
     "name": "stderr",
     "output_type": "stream",
     "text": [
      "<ipython-input-19-26b27108d2b0>:18: RuntimeWarning: invalid value encountered in true_divide\n",
      "  bold_data_norm = (bold_data_norm / (np.std(bold_data_norm,3)[:,:,:,np.newaxis]))\n"
     ]
    },
    {
     "name": "stdout",
     "output_type": "stream",
     "text": [
      "196\n"
     ]
    },
    {
     "name": "stderr",
     "output_type": "stream",
     "text": [
      "<ipython-input-19-26b27108d2b0>:18: RuntimeWarning: invalid value encountered in true_divide\n",
      "  bold_data_norm = (bold_data_norm / (np.std(bold_data_norm,3)[:,:,:,np.newaxis]))\n"
     ]
    },
    {
     "name": "stdout",
     "output_type": "stream",
     "text": [
      "197\n"
     ]
    },
    {
     "name": "stderr",
     "output_type": "stream",
     "text": [
      "<ipython-input-19-26b27108d2b0>:18: RuntimeWarning: invalid value encountered in true_divide\n",
      "  bold_data_norm = (bold_data_norm / (np.std(bold_data_norm,3)[:,:,:,np.newaxis]))\n"
     ]
    },
    {
     "name": "stdout",
     "output_type": "stream",
     "text": [
      "198\n"
     ]
    },
    {
     "name": "stderr",
     "output_type": "stream",
     "text": [
      "<ipython-input-19-26b27108d2b0>:18: RuntimeWarning: invalid value encountered in true_divide\n",
      "  bold_data_norm = (bold_data_norm / (np.std(bold_data_norm,3)[:,:,:,np.newaxis]))\n"
     ]
    },
    {
     "name": "stdout",
     "output_type": "stream",
     "text": [
      "199\n"
     ]
    },
    {
     "name": "stderr",
     "output_type": "stream",
     "text": [
      "<ipython-input-19-26b27108d2b0>:18: RuntimeWarning: invalid value encountered in true_divide\n",
      "  bold_data_norm = (bold_data_norm / (np.std(bold_data_norm,3)[:,:,:,np.newaxis]))\n"
     ]
    },
    {
     "name": "stdout",
     "output_type": "stream",
     "text": [
      "200\n"
     ]
    }
   ],
   "source": [
    "# read in 4d volumes\n",
    "# standardize voxels in 4d to mean=0, std=1\n",
    "# mask by gray matter, set nan to 0\n",
    "# save as individual 3d volume files\n",
    "# store 273 ROI mean timeseries in single across-subject array\n",
    "n_vols = 171#311#279#400\n",
    "n_regions = 273\n",
    "roi_img_means = np.zeros((200*n_vols, n_regions))\n",
    "mni_file = nib.load('MNI152_T1_2mm.nii')\n",
    "mni_file_header = mni_file.header.copy()\n",
    "for i in range(200):\n",
    "    start_num = (n_vols*i) + 1\n",
    "    bold_file = bold_filelist[i]\n",
    "    bold_file = nib.load(bold_file)\n",
    "    bold_data = bold_file.get_fdata()\n",
    "    bold_data_norm = (bold_data - (np.mean(bold_data,3)[:,:,:,np.newaxis]))\n",
    "    bold_data_norm = (bold_data_norm / (np.std(bold_data_norm,3)[:,:,:,np.newaxis]))\n",
    "    bold_data_norm = bold_data_norm * gm_mask_data[:,:,:,np.newaxis]\n",
    "    bold_data_norm[np.isnan(bold_data_norm)] = 0\n",
    "\n",
    "    for j in range(n_vols):\n",
    "        cur_img = bold_data_norm[:,:,:,j]\n",
    "        bold_data_norm_nii = nib.Nifti1Image(cur_img, None, mni_file_header)\n",
    "        out_filename = vol_out_dir + 'vol_%06d.nii.gz' %(start_num + j)\n",
    "        nib.save(bold_data_norm_nii, out_filename)\n",
    "        # get region mean timeseries\n",
    "        for k in range(n_regions):\n",
    "            roi_img_means[start_num + j - 1, k] = np.mean(cur_img[roi_inds[k][0],roi_inds[k][1],roi_inds[k][2]])\n",
    "    print(i+1)\n",
    "#np.save('roi_img_means_200_subjects_REST1.npy', roi_img_means)"
   ]
  },
  {
   "cell_type": "code",
   "execution_count": 20,
   "id": "d3ef0893",
   "metadata": {},
   "outputs": [],
   "source": [
    "# save ROI BOLD timeseries\n",
    "#np.save('roi_img_means_200_subjects_REST1.npy', roi_img_means)\n",
    "#np.save('roi_img_means_200_subjects_wm.npy', roi_img_means)\n",
    "#np.save('roi_img_means_200_subjects_motor.npy', roi_img_means)\n",
    "#np.save('roi_img_means_200_subjects_language.npy', roi_img_means)\n",
    "#np.save('roi_img_means_200_subjects_emotion.npy', roi_img_means)"
   ]
  },
  {
   "cell_type": "code",
   "execution_count": 4,
   "id": "ba218c91",
   "metadata": {},
   "outputs": [
    {
     "name": "stdout",
     "output_type": "stream",
     "text": [
      "0\n",
      "1000\n",
      "2000\n",
      "3000\n",
      "4000\n",
      "5000\n",
      "6000\n",
      "7000\n",
      "8000\n",
      "9000\n",
      "10000\n",
      "11000\n",
      "12000\n",
      "13000\n",
      "14000\n",
      "15000\n",
      "16000\n",
      "17000\n",
      "18000\n",
      "19000\n",
      "20000\n",
      "21000\n",
      "22000\n",
      "23000\n",
      "24000\n",
      "25000\n",
      "26000\n",
      "27000\n",
      "28000\n",
      "29000\n",
      "30000\n",
      "31000\n",
      "32000\n",
      "33000\n",
      "34000\n",
      "35000\n",
      "36000\n",
      "37000\n",
      "38000\n",
      "39000\n",
      "40000\n",
      "41000\n",
      "42000\n",
      "43000\n",
      "44000\n",
      "45000\n",
      "46000\n",
      "47000\n",
      "48000\n",
      "49000\n",
      "50000\n",
      "51000\n",
      "52000\n",
      "53000\n",
      "54000\n",
      "55000\n",
      "56000\n",
      "57000\n",
      "58000\n",
      "59000\n",
      "60000\n",
      "61000\n",
      "62000\n",
      "63000\n",
      "64000\n",
      "65000\n",
      "66000\n",
      "67000\n",
      "68000\n",
      "69000\n",
      "70000\n",
      "71000\n",
      "72000\n",
      "73000\n",
      "74000\n",
      "75000\n",
      "76000\n",
      "77000\n",
      "78000\n",
      "79000\n",
      "80000\n",
      "81000\n",
      "82000\n",
      "83000\n",
      "84000\n",
      "85000\n",
      "86000\n",
      "87000\n",
      "88000\n",
      "89000\n",
      "90000\n",
      "91000\n",
      "92000\n",
      "93000\n",
      "94000\n",
      "95000\n",
      "96000\n",
      "97000\n",
      "98000\n",
      "99000\n",
      "100000\n",
      "101000\n",
      "102000\n",
      "103000\n",
      "104000\n",
      "105000\n",
      "106000\n",
      "107000\n",
      "108000\n",
      "109000\n",
      "110000\n",
      "111000\n",
      "112000\n",
      "113000\n",
      "114000\n",
      "115000\n",
      "116000\n",
      "117000\n",
      "118000\n",
      "119000\n"
     ]
    }
   ],
   "source": [
    "# load all task-free 3D BOLD images\n",
    "train_set = range(119500) # discovery dataset\n",
    "img_array = np.zeros((len(gm_vox_inds),len(train_set)))\n",
    "for i in range(len(train_set)):\n",
    "    img_filename = '3d_vols/vol_%06d.nii.gz' %(train_set[i]+1) # discovery dataset\n",
    "    img_filename = '3d_vols/vol_%06d.nii.gz' %(train_set[i]+1+119500) # validation dataset\n",
    "    img = nib.load(img_filename)\n",
    "    img_d = img.get_fdata()\n",
    "    img_array[:,i] = img_d[gm_vox[0], gm_vox[1], gm_vox[2]]\n",
    "    if not np.mod(i,1000):\n",
    "        print(i)"
   ]
  },
  {
   "cell_type": "code",
   "execution_count": 21,
   "id": "ca7a4e54",
   "metadata": {},
   "outputs": [
    {
     "name": "stdout",
     "output_type": "stream",
     "text": [
      "0\n",
      "5000\n",
      "10000\n",
      "15000\n",
      "20000\n",
      "25000\n",
      "30000\n",
      "35000\n",
      "40000\n",
      "45000\n",
      "50000\n",
      "55000\n",
      "60000\n",
      "65000\n",
      "70000\n",
      "75000\n"
     ]
    }
   ],
   "source": [
    "# load all working memory task BOLD images\n",
    "n_vols = 80000\n",
    "img_array_wm = np.zeros((len(gm_vox_inds),n_vols)).astype('float32')\n",
    "for i in range(n_vols):\n",
    "    img_filename = 'alee/projects/hcp/3d_vols_task/wm/vol_%06d.nii.gz' %(i+1)\n",
    "    img = nib.load(img_filename)\n",
    "    img_d = img.get_fdata()\n",
    "    img_array_wm[:,i] = img_d[gm_vox[0], gm_vox[1], gm_vox[2]]\n",
    "    if not np.mod(i,5000):\n",
    "        print(i)"
   ]
  },
  {
   "cell_type": "code",
   "execution_count": 22,
   "id": "8dfb0edd",
   "metadata": {},
   "outputs": [
    {
     "name": "stdout",
     "output_type": "stream",
     "text": [
      "0\n",
      "5000\n",
      "10000\n",
      "15000\n",
      "20000\n",
      "25000\n",
      "30000\n",
      "35000\n",
      "40000\n",
      "45000\n",
      "50000\n",
      "55000\n"
     ]
    }
   ],
   "source": [
    "# load all motor task BOLD images\n",
    "n_vols = 55800\n",
    "img_array_motor = np.zeros((len(gm_vox_inds),n_vols)).astype('float32')\n",
    "for i in range(n_vols):\n",
    "    img_filename = 'alee/projects/hcp/3d_vols_task/motor/vol_%06d.nii.gz' %(i+1)\n",
    "    img = nib.load(img_filename)\n",
    "    img_d = img.get_fdata()\n",
    "    img_array_motor[:,i] = img_d[gm_vox[0], gm_vox[1], gm_vox[2]]\n",
    "    if not np.mod(i,5000):\n",
    "        print(i)"
   ]
  },
  {
   "cell_type": "code",
   "execution_count": 23,
   "id": "73dce52a",
   "metadata": {},
   "outputs": [
    {
     "name": "stdout",
     "output_type": "stream",
     "text": [
      "0\n",
      "5000\n",
      "10000\n",
      "15000\n",
      "20000\n",
      "25000\n",
      "30000\n",
      "35000\n",
      "40000\n",
      "45000\n",
      "50000\n",
      "55000\n",
      "60000\n"
     ]
    }
   ],
   "source": [
    "# load all language task BOLD images\n",
    "n_vols = 62200\n",
    "img_array_language = np.zeros((len(gm_vox_inds),n_vols)).astype('float32')\n",
    "for i in range(n_vols):\n",
    "    img_filename = '3d_vols_task/language/vol_%06d.nii.gz' %(i+1)\n",
    "    img = nib.load(img_filename)\n",
    "    img_d = img.get_fdata()\n",
    "    img_array_language[:,i] = img_d[gm_vox[0], gm_vox[1], gm_vox[2]]\n",
    "    if not np.mod(i,5000):\n",
    "        print(i)"
   ]
  },
  {
   "cell_type": "code",
   "execution_count": 24,
   "id": "c7cfdf45",
   "metadata": {},
   "outputs": [
    {
     "name": "stdout",
     "output_type": "stream",
     "text": [
      "0\n",
      "5000\n",
      "10000\n",
      "15000\n",
      "20000\n",
      "25000\n",
      "30000\n"
     ]
    }
   ],
   "source": [
    "# load all emotion task BOLD images\n",
    "n_vols = 34200\n",
    "img_array_emotion = np.zeros((len(gm_vox_inds),n_vols)).astype('float32')\n",
    "for i in range(n_vols):\n",
    "    img_filename = 'hcp/3d_vols_task/emotion/vol_%06d.nii.gz' %(i+1)\n",
    "    img = nib.load(img_filename)\n",
    "    img_d = img.get_fdata()\n",
    "    img_array_emotion[:,i] = img_d[gm_vox[0], gm_vox[1], gm_vox[2]]\n",
    "    if not np.mod(i,5000):\n",
    "        print(i)"
   ]
  },
  {
   "cell_type": "code",
   "execution_count": 25,
   "id": "f914f17c",
   "metadata": {},
   "outputs": [],
   "source": [
    "# stack all task BOLD images\n",
    "img_array_comb_disc = np.vstack((img_array_wm[:,:40000].T,img_array_motor[:,:27900].T))\n",
    "img_array_comb_disc = np.vstack((img_array_comb_disc,img_array_language[:,:31100].T))\n",
    "img_array_comb_disc = np.vstack((img_array_comb_disc,img_array_emotion[:,:17100].T))"
   ]
  },
  {
   "cell_type": "code",
   "execution_count": 26,
   "id": "645f2400",
   "metadata": {},
   "outputs": [
    {
     "name": "stdout",
     "output_type": "stream",
     "text": [
      "           img_array_comb_disc: 70.5 GiB\n",
      "                  img_array_wm: 48.6 GiB\n",
      "            img_array_language: 37.8 GiB\n",
      "               img_array_motor: 33.9 GiB\n",
      "             img_array_emotion: 20.8 GiB\n",
      "                     bold_data:  1.1 GiB\n",
      "                bold_data_norm:  1.1 GiB\n",
      "                 roi_img_means: 71.2 MiB\n",
      "                  gm_mask_data:  6.9 MiB\n",
      "                  input_rois_d:  6.9 MiB\n"
     ]
    }
   ],
   "source": [
    "# check size of all defined python variables\n",
    "import sys\n",
    "def sizeof_fmt(num, suffix='B'):\n",
    "    ''' by Fred Cirera,  https://stackoverflow.com/a/1094933/1870254, modified'''\n",
    "    for unit in ['','Ki','Mi','Gi','Ti','Pi','Ei','Zi']:\n",
    "        if abs(num) < 1024.0:\n",
    "            return \"%3.1f %s%s\" % (num, unit, suffix)\n",
    "        num /= 1024.0\n",
    "    return \"%.1f %s%s\" % (num, 'Yi', suffix)\n",
    "\n",
    "for name, size in sorted(((name, sys.getsizeof(value)) for name, value in locals().items()),\n",
    "                         key= lambda x: -x[1])[:10]:\n",
    "    print(\"{:>30}: {:>8}\".format(name, sizeof_fmt(size)))"
   ]
  },
  {
   "cell_type": "code",
   "execution_count": 29,
   "id": "e5921f8d",
   "metadata": {},
   "outputs": [
    {
     "data": {
      "text/plain": [
       "array([0.1750335 , 0.21433559, 0.23677755, 0.25723442, 0.27124828,\n",
       "       0.28379784, 0.29423001, 0.30273892, 0.31103065, 0.31831005,\n",
       "       0.32508828, 0.3312196 , 0.33704667, 0.34283736, 0.34802452,\n",
       "       0.35290737, 0.35762634, 0.36213145, 0.36645256, 0.37040551,\n",
       "       0.37412854, 0.37764351, 0.38108153, 0.38424912, 0.38714728,\n",
       "       0.38994412, 0.39266673, 0.39530854, 0.39779825, 0.40021652,\n",
       "       0.4025867 , 0.40488595, 0.40705126, 0.40918372, 0.41127842,\n",
       "       0.41326095, 0.41520606, 0.41707585, 0.41889039, 0.4206175 ,\n",
       "       0.42232146, 0.42393868, 0.42551882, 0.42705816, 0.42856839,\n",
       "       0.43006309, 0.43151621, 0.43291489, 0.43429748, 0.4356772 ,\n",
       "       0.43704164, 0.43835956, 0.43965986, 0.44093896, 0.44221421,\n",
       "       0.44346178, 0.44468586, 0.4458818 , 0.44707348, 0.44824501,\n",
       "       0.44940899, 0.45056437, 0.45171369, 0.45284175, 0.45396302,\n",
       "       0.45504713, 0.45612134, 0.45718261, 0.45823468, 0.45927157,\n",
       "       0.46029355, 0.46129735, 0.46229511, 0.46329142, 0.46427331,\n",
       "       0.46523236, 0.46618408, 0.4671292 , 0.46806397, 0.46899237,\n",
       "       0.46991464, 0.4708255 , 0.47172435, 0.47261842, 0.4735051 ,\n",
       "       0.47437849, 0.47524128, 0.47609866, 0.47694658, 0.47778789,\n",
       "       0.47862554, 0.4794575 , 0.48027761, 0.48107841, 0.481875  ,\n",
       "       0.48266463, 0.48345021, 0.48423117, 0.48499822, 0.48575716])"
      ]
     },
     "execution_count": 29,
     "metadata": {},
     "output_type": "execute_result"
    }
   ],
   "source": [
    "# pca on task-free voxel timeseries (the primary latent space used in the paper)\n",
    "pca_discovery = decomposition.PCA(n_components=100)\n",
    "pca_discovery.fit(img_array.T)\n",
    "vox_ts_pca = pca_discovery.transform(img_array.T)\n",
    "pca_discovery.explained_variance_ratio_.cumsum()"
   ]
  },
  {
   "cell_type": "code",
   "execution_count": null,
   "id": "c438db82",
   "metadata": {},
   "outputs": [],
   "source": [
    "# pca on task voxel timeseries\n",
    "pca = decomposition.PCA(n_components=100)\n",
    "pca.fit(img_array_comb_disc)\n",
    "vox_ts_pca = pca.transform(img_array_comb_disc)\n",
    "pca.explained_variance_ratio_.cumsum()"
   ]
  },
  {
   "cell_type": "code",
   "execution_count": 158,
   "id": "64c618e7",
   "metadata": {},
   "outputs": [
    {
     "data": {
      "text/plain": [
       "['pca_validation_100comps.joblib']"
      ]
     },
     "execution_count": 158,
     "metadata": {},
     "output_type": "execute_result"
    }
   ],
   "source": [
    "# save or load PCA object\n",
    "#joblib.dump(pca_discovery, 'pca_discovery_100comps.joblib') \n",
    "pca_discovery = joblib.load('pca_discovery_100comps.joblib') \n",
    "#joblib.dump(pca_validation, 'pca_validation_100comps.joblib') \n",
    "#pca_validation = joblib.load('pca_validation_100comps.joblib') "
   ]
  },
  {
   "cell_type": "code",
   "execution_count": null,
   "id": "79fe4b04",
   "metadata": {},
   "outputs": [],
   "source": [
    "# project validation data into discovery latent space\n",
    "vox_ts_pca_val_proj_disc = pca_discovery.transform(img_array.T)"
   ]
  },
  {
   "cell_type": "code",
   "execution_count": 30,
   "id": "28fcc0fa",
   "metadata": {},
   "outputs": [],
   "source": [
    "# save PCA scores, aka gradient slope timeseries\n",
    "#np.save('vox_ts_pca.npy', vox_ts_pca)\n",
    "#np.save('vox_ts_pca_val.npy', vox_ts_pca)\n",
    "#np.save('vox_ts_pca_val_proj_disc.npy', vox_ts_pca_val_proj_disc)\n",
    "#np.save('vox_ts_pca_task.npy', vox_ts_pca)"
   ]
  },
  {
   "cell_type": "code",
   "execution_count": 156,
   "id": "d32f410c",
   "metadata": {},
   "outputs": [],
   "source": [
    "# save PCA coefficients, aka region gradient weights\n",
    "#np.save('vox_ts_pca_coeff.npy', pca.components_)\n",
    "#np.save('vox_ts_pca_coeff_disc.npy', pca.components_)\n",
    "#np.save('vox_ts_pca_coeff_val.npy', pca.components_)"
   ]
  },
  {
   "cell_type": "code",
   "execution_count": 31,
   "id": "3464dc05",
   "metadata": {},
   "outputs": [],
   "source": [
    "# save gradient weight nii maps\n",
    "for comp_num in range(100):\n",
    "    vox_betas = np.zeros((91,109,91))\n",
    "    vox_betas[gm_vox[0], gm_vox[1], gm_vox[2]] = pca.components_[comp_num,:]\n",
    "    \n",
    "    # create voxelwise beta feature nii file\n",
    "    input = nib.load('MNI152_T1_2mm.nii')\n",
    "    cur_affine = input.affine\n",
    "    output = vox_betas*1000\n",
    "    output_filename = 'pca_grad_maps/pca_grad_disc_%03d.nii' %(comp_num+1)\n",
    "    #output_filename = 'pca_grad_maps/pca_grad_val_%03d.nii' %(comp_num+1)\n",
    "    #output_filename = 'pca_grad_maps/pca_grad_disc_task_%03d.nii' %(comp_num+1)\n",
    "    output_file = nib.Nifti1Image(output, cur_affine)\n",
    "    nib.save(output_file, output_filename)"
   ]
  },
  {
   "cell_type": "code",
   "execution_count": 14,
   "id": "b4c215d1",
   "metadata": {},
   "outputs": [
    {
     "data": {
      "text/plain": [
       "array([0.35784946, 0.43564913, 0.49003337, 0.53338172, 0.56764932,\n",
       "       0.59487169, 0.61555242, 0.63216762, 0.64722145, 0.65949975,\n",
       "       0.67068073, 0.68071977, 0.68952695, 0.69764478, 0.705031  ,\n",
       "       0.71197647, 0.71872957, 0.72493689, 0.73065036, 0.73577617])"
      ]
     },
     "execution_count": 14,
     "metadata": {},
     "output_type": "execute_result"
    }
   ],
   "source": [
    "# pca on ROI timeseries for comparison to voxelwise PCA\n",
    "pca = decomposition.PCA(n_components=20)\n",
    "pca.fit(roi_img_means[:119500,:])\n",
    "roi_ts_pca = pca.transform(roi_img_means[:119500,:])\n",
    "pca.explained_variance_ratio_.cumsum()"
   ]
  },
  {
   "cell_type": "code",
   "execution_count": 32,
   "id": "583d2cab",
   "metadata": {},
   "outputs": [],
   "source": [
    "# project all task data into discovery latent space\n",
    "pca_discovery = joblib.load('pca_discovery_100comps.joblib')\n",
    "vox_ts_pca_task_proj_disc = pca_discovery.transform(img_array_comb_disc)\n",
    "#np.save('vox_ts_pca_task_proj_disc.npy', vox_ts_pca_task_proj_disc)"
   ]
  },
  {
   "cell_type": "code",
   "execution_count": 33,
   "id": "a573d608",
   "metadata": {},
   "outputs": [],
   "source": [
    "# validation task data\n",
    "img_array_comb_val = np.vstack((img_array_wm[:,40000:].T,img_array_motor[:,27900:].T)).astype('float32')\n",
    "img_array_comb_val = np.vstack((img_array_comb_val,img_array_language[:,31100:].T)).astype('float32')\n",
    "img_array_comb_val = np.vstack((img_array_comb_val,img_array_emotion[:,17100:].T)).astype('float32')"
   ]
  },
  {
   "cell_type": "code",
   "execution_count": 34,
   "id": "e190389e",
   "metadata": {},
   "outputs": [],
   "source": [
    "# project validation task data into discovery latent space\n",
    "vox_ts_pca_task_val_proj_disc = pca_discovery.transform(img_array_comb_val)\n",
    "#np.save('vox_ts_pca_task_val_proj_disc.npy', vox_ts_pca_task_val_proj_disc)"
   ]
  },
  {
   "cell_type": "code",
   "execution_count": null,
   "id": "5c60ebd6",
   "metadata": {},
   "outputs": [],
   "source": []
  }
 ],
 "metadata": {
  "kernelspec": {
   "display_name": "Python 3",
   "language": "python",
   "name": "python3"
  },
  "language_info": {
   "codemirror_mode": {
    "name": "ipython",
    "version": 3
   },
   "file_extension": ".py",
   "mimetype": "text/x-python",
   "name": "python",
   "nbconvert_exporter": "python",
   "pygments_lexer": "ipython3",
   "version": "3.6.13"
  }
 },
 "nbformat": 4,
 "nbformat_minor": 5
}
